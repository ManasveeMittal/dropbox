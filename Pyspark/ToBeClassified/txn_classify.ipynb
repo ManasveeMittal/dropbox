{
 "cells": [
  {
   "cell_type": "code",
   "execution_count": 1,
   "metadata": {
    "collapsed": true
   },
   "outputs": [],
   "source": [
    "from pyspark.mllib.fpm import FPGrowth"
   ]
  },
  {
   "cell_type": "code",
   "execution_count": 9,
   "metadata": {},
   "outputs": [
    {
     "data": {
      "text/plain": [
       "'0,tcp,http,SF,181,5450,0,0,0,0,0,1,0,0,0,0,0,0,0,0,0,0,8,8,0.00,0.00,0.00,0.00,1.00,0.00,0.00,9,9,1.00,0.00,0.11,0.00,0.00,0.00,0.00,0.00,normal.'"
      ]
     },
     "execution_count": 9,
     "metadata": {},
     "output_type": "execute_result"
    }
   ],
   "source": [
    "data = sc.textFile(\"/home/test/Dropbox/ToolsAndFrameworks/ApacheSpark/spark-py-notebooks/kddcup.data_10_percent.gz\") #/home/test/Dropbox/ToolsAndFrameworks/ApacheSpark/pyspark/mllib/fpgrowth_example.py\n",
    "# data.take(1)\n",
    "data.first()"
   ]
  },
  {
   "cell_type": "code",
   "execution_count": 12,
   "metadata": {},
   "outputs": [
    {
     "data": {
      "text/plain": [
       "'r z h k p'"
      ]
     },
     "execution_count": 12,
     "metadata": {},
     "output_type": "execute_result"
    }
   ],
   "source": [
    "data = sc.textFile(\"/home/test/Dropbox/ToolsAndFrameworks/ApacheSpark/fp_growth_sample.data\",minPartitions=2)\n",
    "# data.take(1)\n",
    "data.first()"
   ]
  },
  {
   "cell_type": "code",
   "execution_count": 24,
   "metadata": {},
   "outputs": [
    {
     "data": {
      "text/plain": [
       "[['r', 'z', 'h', 'k', 'p'],\n",
       " ['z', 'y', 'x', 'w', 'v', 'u', 't', 's'],\n",
       " ['s', 'x', 'o', 'n', 'r'],\n",
       " ['x', 'z', 'y', 'm', 't', 's', 'q', 'e'],\n",
       " ['z'],\n",
       " ['x', 'z', 'y', 'r', 'q', 't', 'p']]"
      ]
     },
     "execution_count": 24,
     "metadata": {},
     "output_type": "execute_result"
    }
   ],
   "source": [
    "transactions = data.map(lambda line: line.strip().split(' '))\n",
    "transactions.take(10)"
   ]
  },
  {
   "cell_type": "code",
   "execution_count": 25,
   "metadata": {
    "collapsed": true
   },
   "outputs": [],
   "source": [
    "model = FPGrowth.train(transactions, minSupport=0.5, numPartitions=10)"
   ]
  },
  {
   "cell_type": "code",
   "execution_count": 26,
   "metadata": {
    "collapsed": true
   },
   "outputs": [],
   "source": [
    "result = model.freqItemsets().collect()"
   ]
  },
  {
   "cell_type": "code",
   "execution_count": 27,
   "metadata": {},
   "outputs": [
    {
     "name": "stdout",
     "output_type": "stream",
     "text": [
      "[FreqItemset(items=['z'], freq=5),\n",
      " FreqItemset(items=['x'], freq=4),\n",
      " FreqItemset(items=['x', 'z'], freq=3),\n",
      " FreqItemset(items=['y'], freq=3),\n",
      " FreqItemset(items=['y', 'x'], freq=3),\n",
      " FreqItemset(items=['y', 'x', 'z'], freq=3),\n",
      " FreqItemset(items=['y', 'z'], freq=3),\n",
      " FreqItemset(items=['r'], freq=3),\n",
      " FreqItemset(items=['s'], freq=3),\n",
      " FreqItemset(items=['s', 'x'], freq=3),\n",
      " FreqItemset(items=['t'], freq=3),\n",
      " FreqItemset(items=['t', 'y'], freq=3),\n",
      " FreqItemset(items=['t', 'y', 'x'], freq=3),\n",
      " FreqItemset(items=['t', 'y', 'x', 'z'], freq=3),\n",
      " FreqItemset(items=['t', 'y', 'z'], freq=3),\n",
      " FreqItemset(items=['t', 'x'], freq=3),\n",
      " FreqItemset(items=['t', 'x', 'z'], freq=3),\n",
      " FreqItemset(items=['t', 'z'], freq=3)]\n"
     ]
    }
   ],
   "source": [
    "from pprint import pprint\n",
    "pprint(result)"
   ]
  },
  {
   "cell_type": "code",
   "execution_count": 28,
   "metadata": {},
   "outputs": [
    {
     "name": "stdout",
     "output_type": "stream",
     "text": [
      "FreqItemset(items=['z'], freq=5)\n",
      "FreqItemset(items=['x'], freq=4)\n",
      "FreqItemset(items=['x', 'z'], freq=3)\n",
      "FreqItemset(items=['y'], freq=3)\n",
      "FreqItemset(items=['y', 'x'], freq=3)\n",
      "FreqItemset(items=['y', 'x', 'z'], freq=3)\n",
      "FreqItemset(items=['y', 'z'], freq=3)\n",
      "FreqItemset(items=['r'], freq=3)\n",
      "FreqItemset(items=['s'], freq=3)\n",
      "FreqItemset(items=['s', 'x'], freq=3)\n",
      "FreqItemset(items=['t'], freq=3)\n",
      "FreqItemset(items=['t', 'y'], freq=3)\n",
      "FreqItemset(items=['t', 'y', 'x'], freq=3)\n",
      "FreqItemset(items=['t', 'y', 'x', 'z'], freq=3)\n",
      "FreqItemset(items=['t', 'y', 'z'], freq=3)\n",
      "FreqItemset(items=['t', 'x'], freq=3)\n",
      "FreqItemset(items=['t', 'x', 'z'], freq=3)\n",
      "FreqItemset(items=['t', 'z'], freq=3)\n"
     ]
    }
   ],
   "source": [
    "for fi in result:\n",
    "    print(fi)"
   ]
  }
 ],
 "metadata": {
  "kernelspec": {
   "display_name": "Python 3",
   "language": "python",
   "name": "python3"
  },
  "language_info": {
   "codemirror_mode": {
    "name": "ipython",
    "version": 3
   },
   "file_extension": ".py",
   "mimetype": "text/x-python",
   "name": "python",
   "nbconvert_exporter": "python",
   "pygments_lexer": "ipython3",
   "version": "3.6.1"
  }
 },
 "nbformat": 4,
 "nbformat_minor": 2
}
