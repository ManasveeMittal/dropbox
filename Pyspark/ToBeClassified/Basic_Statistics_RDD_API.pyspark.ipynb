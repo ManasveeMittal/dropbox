{
 "cells": [
  {
   "cell_type": "code",
   "execution_count": 1,
   "metadata": {
    "collapsed": true
   },
   "outputs": [],
   "source": [
    "import findspark\n",
    "findspark.init('/usr/local/spark/spark-2.2.0-bin-hadoop2.7/')"
   ]
  },
  {
   "cell_type": "code",
   "execution_count": null,
   "metadata": {
    "collapsed": true
   },
   "outputs": [],
   "source": [
    "# #App name on UI @ spark://master:7077\n",
    "# from pyspark.sql import SparkSession\n",
    "# spark = SparkSession.builder.appName(\"FP_growth\").getOrCreate()"
   ]
  },
  {
   "cell_type": "code",
   "execution_count": 2,
   "metadata": {
    "collapsed": true
   },
   "outputs": [],
   "source": [
    "from pyspark import SparkConf, SparkContext\n",
    "conf = (SparkConf().setMaster(\"local\").setAppName(\"Basic_Statistics_RDD_API.pyspark\").set(\"spark.executor.memory\", \"3g\"))\n",
    "sc = SparkContext(conf = conf)"
   ]
  },
  {
   "cell_type": "raw",
   "metadata": {},
   "source": [
    "Summary statistics\n",
    "colStats() returns an instance of MultivariateStatisticalSummary, which contains the column-wise max, min, mean,\n",
    "variance, and number of nonzeros, as well as the total count"
   ]
  },
  {
   "cell_type": "code",
   "execution_count": 4,
   "metadata": {
    "collapsed": false
   },
   "outputs": [
    {
     "name": "stdout",
     "output_type": "stream",
     "text": [
      "[   2.   20.  200.]\n",
      "[  1.00000000e+00   1.00000000e+02   1.00000000e+04]\n",
      "[ 3.  3.  3.]\n"
     ]
    }
   ],
   "source": [
    "import numpy as np\n",
    "from pyspark.mllib.stat import Statistics\n",
    "mat = sc.parallelize(\n",
    " [np.array([1.0, 10.0, 100.0]), np.array([2.0, 20.0, 200.0]), np.array([3.0, 30.0, 300.0])]\n",
    ") # an RDD of Vectors\n",
    "# Compute column summary statistics.\n",
    "summary = Statistics.colStats(mat)\n",
    "print(summary.mean()) # a dense vector containing the mean value for each column\n",
    "print(summary.variance()) # column-wise variance\n",
    "print(summary.numNonzeros()) # number of nonzeros in each column"
   ]
  },
  {
   "cell_type": "raw",
   "metadata": {},
   "source": [
    "Correlations\n",
    "Statistics provides methods to calculate correlations between series. Depending on the type of input, two\n",
    "RDD[Double]s or an RDD[Vector], the output will be a Double or the correlation Matrix respectively."
   ]
  },
  {
   "cell_type": "code",
   "execution_count": 5,
   "metadata": {
    "collapsed": false
   },
   "outputs": [
    {
     "name": "stdout",
     "output_type": "stream",
     "text": [
      "Correlation is: 0.8500286768773001\n",
      "[[ 1.          0.97888347  0.99038957]\n",
      " [ 0.97888347  1.          0.99774832]\n",
      " [ 0.99038957  0.99774832  1.        ]]\n"
     ]
    }
   ],
   "source": [
    "from pyspark.mllib.stat import Statistics\n",
    "seriesX = sc.parallelize([1.0, 2.0, 3.0, 3.0, 5.0]) # a series\n",
    "# seriesY must have the same number of partitions and cardinality as seriesX\n",
    "seriesY = sc.parallelize([11.0, 22.0, 33.0, 33.0, 555.0])\n",
    "# Compute the correlation using Pearson's method. Enter \"spearman\" for Spearman's method.\n",
    "# If a method is not specified, Pearson's method will be used by default.\n",
    "print(\"Correlation is: \" + str(Statistics.corr(seriesX, seriesY, method=\"pearson\")))\n",
    "data = sc.parallelize(\n",
    " [np.array([1.0, 10.0, 100.0]), np.array([2.0, 20.0, 200.0]), np.array([5.0, 33.0, 366.0])]\n",
    ") # an RDD of Vectors\n",
    "# calculate the correlation matrix using Pearson's method. Use \"spearman\" for Spearman's method.\n",
    "# If a method is not specified, Pearson's method will be used by default.\n",
    "print(Statistics.corr(data, method=\"pearson\"))"
   ]
  }
 ],
 "metadata": {
  "kernelspec": {
   "display_name": "Python 3",
   "language": "python",
   "name": "python3"
  },
  "language_info": {
   "codemirror_mode": {
    "name": "ipython",
    "version": 3
   },
   "file_extension": ".py",
   "mimetype": "text/x-python",
   "name": "python",
   "nbconvert_exporter": "python",
   "pygments_lexer": "ipython3",
   "version": "3.6.0"
  }
 },
 "nbformat": 4,
 "nbformat_minor": 2
}
