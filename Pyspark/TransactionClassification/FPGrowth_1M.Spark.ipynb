{
 "cells": [
  {
   "cell_type": "code",
   "execution_count": 15,
   "metadata": {},
   "outputs": [
    {
     "name": "stdout",
     "output_type": "stream",
     "text": [
      "2017-11-22 14:55:30.514929\n"
     ]
    }
   ],
   "source": [
    "import pandas as pd\n",
    "import re\n",
    "from time import time\n",
    "from pprint import pprint\n",
    "from datetime import datetime\n",
    "print(datetime.now())"
   ]
  },
  {
   "cell_type": "code",
   "execution_count": 9,
   "metadata": {
    "collapsed": true
   },
   "outputs": [],
   "source": [
    "from pyspark.mllib.fpm import FPGrowth"
   ]
  },
  {
   "cell_type": "code",
   "execution_count": 10,
   "metadata": {
    "collapsed": true
   },
   "outputs": [],
   "source": [
    "#config\n",
    "datafile = '/home/test/Documents/DataCleansing/Transaction Classification Problem/dataset_5BCDE.csv'\n",
    "processed_data_out='/home/test/Documents/DataCleansing/Transaction Classification Problem/Processed_1M.csv'\n",
    "fp_tree_1M = '/home/test/Documents/DataCleansing/Transaction Classification Problem/fp_tree_1M.csv'\n",
    "\n",
    "parts = 10\n",
    "num_obs=10"
   ]
  },
  {
   "cell_type": "code",
   "execution_count": 11,
   "metadata": {
    "collapsed": true
   },
   "outputs": [],
   "source": [
    "num_rep='\\d{4,}'"
   ]
  },
  {
   "cell_type": "code",
   "execution_count": 12,
   "metadata": {
    "scrolled": true
   },
   "outputs": [
    {
     "name": "stdout",
     "output_type": "stream",
     "text": [
      "['TD007411000169,TDS', 'Closure,proceeds,credited,to,TD039111000395,', 'VLT,TO,T09', 'CASH,RECEIPT', 'BNG,CS,LOADED,AS,AT,02,5,16', 'CASH,RECEIPT', 'CASH,RECEIPT', 'CASH,RECEIPT', 'CASH,RECEIPT', 'VLT,T1'] \n",
      "\n",
      "['TDNUM,TDS', 'Closure,proceeds,credited,to,TDNUM,', 'VLT,TO,T09', 'CASH,RECEIPT', 'BNG,CS,LOADED,AS,AT,02,5,16', 'CASH,RECEIPT', 'CASH,RECEIPT', 'CASH,RECEIPT', 'CASH,RECEIPT', 'VLT,T1'] \n",
      "\n",
      "[['tdnum', 'tds'], ['closure', 'proceeds', 'credited'], ['vlt', 'to', 't09'], ['cash', 'receipt'], ['bng', 'cs', 'loaded'], ['cash', 'receipt'], ['cash', 'receipt'], ['cash', 'receipt'], ['cash', 'receipt'], ['vlt', 't1']] \n",
      "\n",
      "[['tdnum_P1', 'tds_P2'], ['closure_P1', 'proceeds_P2', 'credited_P3'], ['vlt_P1', 'to_P2', 't09_P3'], ['cash_P1', 'receipt_P2'], ['bng_P1', 'cs_P2', 'loaded_P3'], ['cash_P1', 'receipt_P2'], ['cash_P1', 'receipt_P2'], ['cash_P1', 'receipt_P2'], ['cash_P1', 'receipt_P2'], ['vlt_P1', 't1_P2']] \n",
      "\n"
     ]
    }
   ],
   "source": [
    "data = sc.textFile(datafile,minPartitions=parts)\n",
    "\n",
    "\n",
    "header = data.first()\n",
    "data = data.filter(lambda line: line != header)\n",
    "# print(data.take(num_obs),'\\n')\n",
    "data = data.map(lambda x: x.split(\"|\"))\n",
    "# print(data.take(num_obs),'\\n')\n",
    "data = data.map(lambda x: x[1])\n",
    "# print(data.take(num_obs),'\\n')\n",
    "data = data.map(lambda line:re.sub('[^A-Za-z0-9]+', ',', line))\n",
    "print(data.take(num_obs),'\\n')\n",
    "data = data.map(lambda line:re.sub(num_rep, 'NUM', line))\n",
    "print(data.take(num_obs),'\\n')\n",
    "data = data.map(lambda line: line.lower().strip().split(',')[:3])\n",
    "print(data.take(num_obs),'\\n')\n",
    "data = data.map(lambda line: [elem+'_P'+str(idx+1) for (elem,idx) in zip(line,range(len(line)))])\n",
    "print(data.take(num_obs),'\\n')\n",
    "# data=data.cache()\n"
   ]
  },
  {
   "cell_type": "code",
   "execution_count": 16,
   "metadata": {
    "collapsed": true
   },
   "outputs": [],
   "source": [
    "datamodel = FPGrowth.train(data,minSupport=0.0005,numPartitions=10)\n"
   ]
  },
  {
   "cell_type": "code",
   "execution_count": 9,
   "metadata": {
    "collapsed": true
   },
   "outputs": [],
   "source": [
    "# data.saveAsTextFile(processed_data_out)"
   ]
  },
  {
   "cell_type": "code",
   "execution_count": 10,
   "metadata": {},
   "outputs": [
    {
     "data": {
      "text/plain": [
       "10"
      ]
     },
     "execution_count": 10,
     "metadata": {},
     "output_type": "execute_result"
    }
   ],
   "source": [
    "# df=data.toDF()\n",
    "# data.take(100)\n",
    "data.getNumPartitions()"
   ]
  },
  {
   "cell_type": "code",
   "execution_count": 15,
   "metadata": {},
   "outputs": [
    {
     "data": {
      "text/plain": [
       "([Row(_1='trf_P1', _2='ifo_P2', _3='crsg_P3'),\n",
       "  Row(_1='fee_P1', _2='on_P2', _3='od_P3'),\n",
       "  Row(_1='shortfall_P1', _2='iro_P2', _3='crsg_P3'),\n",
       "  Row(_1='part_P1', _2='pymt_P2', _3='num_P3')],\n",
       " Row(_1='trf_P1', _2='ifo_P2', _3='crsg_P3'))"
      ]
     },
     "execution_count": 15,
     "metadata": {},
     "output_type": "execute_result"
    }
   ],
   "source": [
    "df.head(4),df.first()"
   ]
  },
  {
   "cell_type": "code",
   "execution_count": 17,
   "metadata": {},
   "outputs": [
    {
     "name": "stdout",
     "output_type": "stream",
     "text": [
      "291\n",
      "2017-11-22 15:00:51.064140\n"
     ]
    }
   ],
   "source": [
    "result = datamodel.freqItemsets().collect()\n",
    "print(len(result))\n",
    "# result[:10],result[-10:]\n",
    "print(datetime.now())"
   ]
  },
  {
   "cell_type": "code",
   "execution_count": 8,
   "metadata": {},
   "outputs": [
    {
     "data": {
      "text/plain": [
       "30704991"
      ]
     },
     "execution_count": 8,
     "metadata": {},
     "output_type": "execute_result"
    }
   ],
   "source": [
    "data_length = data.count()\n",
    "data_length"
   ]
  },
  {
   "cell_type": "code",
   "execution_count": 9,
   "metadata": {},
   "outputs": [
    {
     "name": "stdout",
     "output_type": "stream",
     "text": [
      "[[['3qtl002_P3'], 103175, 0.336],\n",
      " [['3qtl002_P3', 'web_P1'], 103175, 0.336],\n",
      " [['3qtl002_P3', 'web_P1', 'trf_P2'], 103175, 0.336],\n",
      " [['3qtl002_P3', 'trf_P2'], 103175, 0.336],\n",
      " [['vtairtelnum_P1'], 34725, 0.113]]\n"
     ]
    }
   ],
   "source": [
    "#creating list of fp_tree\n",
    "fp_tree_list =[[item[0],item[1],round(100*item[1]/data_length,3)] for item in result]\n",
    "len(fp_tree_list)\n",
    "pprint(fp_tree_list[:5])"
   ]
  },
  {
   "cell_type": "code",
   "execution_count": 20,
   "metadata": {
    "collapsed": true
   },
   "outputs": [],
   "source": [
    "#create dictionary of Fp tree\n",
    "fp_tree_dict = {}\n",
    "i=0\n",
    "for elem in result:\n",
    "    i+=1\n",
    "    fp_tree_dict[str(elem[0])]=[elem[1],round(100*elem[1]/data_length,2)]\n",
    "# result[0][1]\n",
    "# print(fp_tree_dict.items())"
   ]
  },
  {
   "cell_type": "code",
   "execution_count": 10,
   "metadata": {},
   "outputs": [
    {
     "name": "stdout",
     "output_type": "stream",
     "text": [
      "                       tree_map  absolute_support  support_ratio\n",
      "0                  [3qtl002_P3]            103175          0.336\n",
      "1          [3qtl002_P3, web_P1]            103175          0.336\n",
      "2  [3qtl002_P3, web_P1, trf_P2]            103175          0.336\n",
      "3          [3qtl002_P3, trf_P2]            103175          0.336\n",
      "4              [vtairtelnum_P1]             34725          0.113\n"
     ]
    }
   ],
   "source": [
    "#creating dataframe of FP tree\n",
    "import pandas as pd\n",
    "fp_df = pd.DataFrame(fp_tree_list,columns=['tree_map', 'absolute_support', 'support_ratio'])\n",
    "print(fp_df.head())"
   ]
  },
  {
   "cell_type": "code",
   "execution_count": 11,
   "metadata": {
    "collapsed": true
   },
   "outputs": [],
   "source": [
    "fp_df['num_Ps']=fp_df['tree_map'].apply(lambda x:len(x))"
   ]
  },
  {
   "cell_type": "code",
   "execution_count": 12,
   "metadata": {},
   "outputs": [
    {
     "data": {
      "text/html": [
       "<div>\n",
       "<style>\n",
       "    .dataframe thead tr:only-child th {\n",
       "        text-align: right;\n",
       "    }\n",
       "\n",
       "    .dataframe thead th {\n",
       "        text-align: left;\n",
       "    }\n",
       "\n",
       "    .dataframe tbody tr th {\n",
       "        vertical-align: top;\n",
       "    }\n",
       "</style>\n",
       "<table border=\"1\" class=\"dataframe\">\n",
       "  <thead>\n",
       "    <tr style=\"text-align: right;\">\n",
       "      <th></th>\n",
       "      <th>tree_map</th>\n",
       "      <th>absolute_support</th>\n",
       "      <th>support_ratio</th>\n",
       "      <th>num_Ps</th>\n",
       "    </tr>\n",
       "  </thead>\n",
       "  <tbody>\n",
       "    <tr>\n",
       "      <th>0</th>\n",
       "      <td>[3qtl002_P3]</td>\n",
       "      <td>103175</td>\n",
       "      <td>0.336</td>\n",
       "      <td>1</td>\n",
       "    </tr>\n",
       "    <tr>\n",
       "      <th>1</th>\n",
       "      <td>[3qtl002_P3, web_P1]</td>\n",
       "      <td>103175</td>\n",
       "      <td>0.336</td>\n",
       "      <td>2</td>\n",
       "    </tr>\n",
       "    <tr>\n",
       "      <th>2</th>\n",
       "      <td>[3qtl002_P3, web_P1, trf_P2]</td>\n",
       "      <td>103175</td>\n",
       "      <td>0.336</td>\n",
       "      <td>3</td>\n",
       "    </tr>\n",
       "    <tr>\n",
       "      <th>3</th>\n",
       "      <td>[3qtl002_P3, trf_P2]</td>\n",
       "      <td>103175</td>\n",
       "      <td>0.336</td>\n",
       "      <td>2</td>\n",
       "    </tr>\n",
       "    <tr>\n",
       "      <th>4</th>\n",
       "      <td>[vtairtelnum_P1]</td>\n",
       "      <td>34725</td>\n",
       "      <td>0.113</td>\n",
       "      <td>1</td>\n",
       "    </tr>\n",
       "    <tr>\n",
       "      <th>5</th>\n",
       "      <td>[tnf_P1]</td>\n",
       "      <td>595496</td>\n",
       "      <td>1.939</td>\n",
       "      <td>1</td>\n",
       "    </tr>\n",
       "    <tr>\n",
       "      <th>6</th>\n",
       "      <td>[self_P2]</td>\n",
       "      <td>150107</td>\n",
       "      <td>0.489</td>\n",
       "      <td>1</td>\n",
       "    </tr>\n",
       "    <tr>\n",
       "      <th>7</th>\n",
       "      <td>[self_P2, cdb_P1]</td>\n",
       "      <td>55847</td>\n",
       "      <td>0.182</td>\n",
       "      <td>2</td>\n",
       "    </tr>\n",
       "    <tr>\n",
       "      <th>8</th>\n",
       "      <td>[self_P2, cdb_P1, num_P3]</td>\n",
       "      <td>51897</td>\n",
       "      <td>0.169</td>\n",
       "      <td>3</td>\n",
       "    </tr>\n",
       "    <tr>\n",
       "      <th>9</th>\n",
       "      <td>[self_P2, num_P3]</td>\n",
       "      <td>109888</td>\n",
       "      <td>0.358</td>\n",
       "      <td>2</td>\n",
       "    </tr>\n",
       "    <tr>\n",
       "      <th>10</th>\n",
       "      <td>[by_P3]</td>\n",
       "      <td>50869</td>\n",
       "      <td>0.166</td>\n",
       "      <td>1</td>\n",
       "    </tr>\n",
       "    <tr>\n",
       "      <th>11</th>\n",
       "      <td>[trf_P2]</td>\n",
       "      <td>1307046</td>\n",
       "      <td>4.257</td>\n",
       "      <td>1</td>\n",
       "    </tr>\n",
       "    <tr>\n",
       "      <th>12</th>\n",
       "      <td>[trf_P2, atm_P1]</td>\n",
       "      <td>1066634</td>\n",
       "      <td>3.474</td>\n",
       "      <td>2</td>\n",
       "    </tr>\n",
       "    <tr>\n",
       "      <th>13</th>\n",
       "      <td>[trf_P2, atm_P1, num_P3]</td>\n",
       "      <td>1046775</td>\n",
       "      <td>3.409</td>\n",
       "      <td>3</td>\n",
       "    </tr>\n",
       "    <tr>\n",
       "      <th>14</th>\n",
       "      <td>[trf_P2, num_P3]</td>\n",
       "      <td>1046826</td>\n",
       "      <td>3.409</td>\n",
       "      <td>2</td>\n",
       "    </tr>\n",
       "    <tr>\n",
       "      <th>15</th>\n",
       "      <td>[of_P2]</td>\n",
       "      <td>75838</td>\n",
       "      <td>0.247</td>\n",
       "      <td>1</td>\n",
       "    </tr>\n",
       "    <tr>\n",
       "      <th>16</th>\n",
       "      <td>[maint_P2]</td>\n",
       "      <td>308237</td>\n",
       "      <td>1.004</td>\n",
       "      <td>1</td>\n",
       "    </tr>\n",
       "    <tr>\n",
       "      <th>17</th>\n",
       "      <td>[num_P3]</td>\n",
       "      <td>14051470</td>\n",
       "      <td>45.763</td>\n",
       "      <td>1</td>\n",
       "    </tr>\n",
       "    <tr>\n",
       "      <th>18</th>\n",
       "      <td>[fnn_P1]</td>\n",
       "      <td>144569</td>\n",
       "      <td>0.471</td>\n",
       "      <td>1</td>\n",
       "    </tr>\n",
       "    <tr>\n",
       "      <th>19</th>\n",
       "      <td>[vat_P1]</td>\n",
       "      <td>48501</td>\n",
       "      <td>0.158</td>\n",
       "      <td>1</td>\n",
       "    </tr>\n",
       "  </tbody>\n",
       "</table>\n",
       "</div>"
      ],
      "text/plain": [
       "                        tree_map  absolute_support  support_ratio  num_Ps\n",
       "0                   [3qtl002_P3]            103175          0.336       1\n",
       "1           [3qtl002_P3, web_P1]            103175          0.336       2\n",
       "2   [3qtl002_P3, web_P1, trf_P2]            103175          0.336       3\n",
       "3           [3qtl002_P3, trf_P2]            103175          0.336       2\n",
       "4               [vtairtelnum_P1]             34725          0.113       1\n",
       "5                       [tnf_P1]            595496          1.939       1\n",
       "6                      [self_P2]            150107          0.489       1\n",
       "7              [self_P2, cdb_P1]             55847          0.182       2\n",
       "8      [self_P2, cdb_P1, num_P3]             51897          0.169       3\n",
       "9              [self_P2, num_P3]            109888          0.358       2\n",
       "10                       [by_P3]             50869          0.166       1\n",
       "11                      [trf_P2]           1307046          4.257       1\n",
       "12              [trf_P2, atm_P1]           1066634          3.474       2\n",
       "13      [trf_P2, atm_P1, num_P3]           1046775          3.409       3\n",
       "14              [trf_P2, num_P3]           1046826          3.409       2\n",
       "15                       [of_P2]             75838          0.247       1\n",
       "16                    [maint_P2]            308237          1.004       1\n",
       "17                      [num_P3]          14051470         45.763       1\n",
       "18                      [fnn_P1]            144569          0.471       1\n",
       "19                      [vat_P1]             48501          0.158       1"
      ]
     },
     "execution_count": 12,
     "metadata": {},
     "output_type": "execute_result"
    }
   ],
   "source": [
    "fp_df.head(20)"
   ]
  },
  {
   "cell_type": "code",
   "execution_count": 65,
   "metadata": {},
   "outputs": [
    {
     "data": {
      "text/plain": [
       "1    88\n",
       "2    85\n",
       "3    27\n",
       "Name: num_Ps, dtype: int64"
      ]
     },
     "execution_count": 65,
     "metadata": {},
     "output_type": "execute_result"
    }
   ],
   "source": [
    "fp_df.num_Ps.value_counts()"
   ]
  },
  {
   "cell_type": "code",
   "execution_count": 61,
   "metadata": {},
   "outputs": [
    {
     "data": {
      "text/html": [
       "<div>\n",
       "<style>\n",
       "    .dataframe thead tr:only-child th {\n",
       "        text-align: right;\n",
       "    }\n",
       "\n",
       "    .dataframe thead th {\n",
       "        text-align: left;\n",
       "    }\n",
       "\n",
       "    .dataframe tbody tr th {\n",
       "        vertical-align: top;\n",
       "    }\n",
       "</style>\n",
       "<table border=\"1\" class=\"dataframe\">\n",
       "  <thead>\n",
       "    <tr style=\"text-align: right;\">\n",
       "      <th></th>\n",
       "      <th>absolute_support</th>\n",
       "      <th>support_ratio</th>\n",
       "    </tr>\n",
       "    <tr>\n",
       "      <th>num_Ps</th>\n",
       "      <th></th>\n",
       "      <th></th>\n",
       "    </tr>\n",
       "  </thead>\n",
       "  <tbody>\n",
       "    <tr>\n",
       "      <th>1</th>\n",
       "      <td>924733.556818</td>\n",
       "      <td>3.011670</td>\n",
       "    </tr>\n",
       "    <tr>\n",
       "      <th>2</th>\n",
       "      <td>880127.352941</td>\n",
       "      <td>2.866424</td>\n",
       "    </tr>\n",
       "    <tr>\n",
       "      <th>3</th>\n",
       "      <td>879216.740741</td>\n",
       "      <td>2.863333</td>\n",
       "    </tr>\n",
       "  </tbody>\n",
       "</table>\n",
       "</div>"
      ],
      "text/plain": [
       "        absolute_support  support_ratio\n",
       "num_Ps                                 \n",
       "1          924733.556818       3.011670\n",
       "2          880127.352941       2.866424\n",
       "3          879216.740741       2.863333"
      ]
     },
     "execution_count": 61,
     "metadata": {},
     "output_type": "execute_result"
    }
   ],
   "source": [
    "fp_df.groupby('num_Ps').agg('mean')"
   ]
  },
  {
   "cell_type": "code",
   "execution_count": 13,
   "metadata": {
    "collapsed": true
   },
   "outputs": [],
   "source": [
    "def create_elem(l,i):\n",
    "    if len(l) > i:\n",
    "        return l[i]\n",
    "    else:\n",
    "        return ''"
   ]
  },
  {
   "cell_type": "code",
   "execution_count": 14,
   "metadata": {},
   "outputs": [
    {
     "name": "stdout",
     "output_type": "stream",
     "text": [
      "27\n"
     ]
    },
    {
     "data": {
      "text/html": [
       "<div>\n",
       "<style>\n",
       "    .dataframe thead tr:only-child th {\n",
       "        text-align: right;\n",
       "    }\n",
       "\n",
       "    .dataframe thead th {\n",
       "        text-align: left;\n",
       "    }\n",
       "\n",
       "    .dataframe tbody tr th {\n",
       "        vertical-align: top;\n",
       "    }\n",
       "</style>\n",
       "<table border=\"1\" class=\"dataframe\">\n",
       "  <thead>\n",
       "    <tr style=\"text-align: right;\">\n",
       "      <th></th>\n",
       "      <th>tree_map</th>\n",
       "      <th>absolute_support</th>\n",
       "      <th>support_ratio</th>\n",
       "      <th>num_Ps</th>\n",
       "      <th>Key_1</th>\n",
       "      <th>Key_2</th>\n",
       "      <th>Key_3</th>\n",
       "    </tr>\n",
       "  </thead>\n",
       "  <tbody>\n",
       "    <tr>\n",
       "      <th>2</th>\n",
       "      <td>[3qtl002_P3, web_P1, trf_P2]</td>\n",
       "      <td>103175</td>\n",
       "      <td>0.336</td>\n",
       "      <td>3</td>\n",
       "      <td>3qtl002_P3</td>\n",
       "      <td>web_P1</td>\n",
       "      <td>trf_P2</td>\n",
       "    </tr>\n",
       "    <tr>\n",
       "      <th>8</th>\n",
       "      <td>[self_P2, cdb_P1, num_P3]</td>\n",
       "      <td>51897</td>\n",
       "      <td>0.169</td>\n",
       "      <td>3</td>\n",
       "      <td>self_P2</td>\n",
       "      <td>cdb_P1</td>\n",
       "      <td>num_P3</td>\n",
       "    </tr>\n",
       "    <tr>\n",
       "      <th>13</th>\n",
       "      <td>[trf_P2, atm_P1, num_P3]</td>\n",
       "      <td>1046775</td>\n",
       "      <td>3.409</td>\n",
       "      <td>3</td>\n",
       "      <td>trf_P2</td>\n",
       "      <td>atm_P1</td>\n",
       "      <td>num_P3</td>\n",
       "    </tr>\n",
       "    <tr>\n",
       "      <th>33</th>\n",
       "      <td>[tr_P3, r_P1, num_P2]</td>\n",
       "      <td>101320</td>\n",
       "      <td>0.330</td>\n",
       "      <td>3</td>\n",
       "      <td>tr_P3</td>\n",
       "      <td>r_P1</td>\n",
       "      <td>num_P2</td>\n",
       "    </tr>\n",
       "    <tr>\n",
       "      <th>36</th>\n",
       "      <td>[april_P3, card_P1, maint_P2]</td>\n",
       "      <td>284458</td>\n",
       "      <td>0.926</td>\n",
       "      <td>3</td>\n",
       "      <td>april_P3</td>\n",
       "      <td>card_P1</td>\n",
       "      <td>maint_P2</td>\n",
       "    </tr>\n",
       "    <tr>\n",
       "      <th>42</th>\n",
       "      <td>[wd_P2, atm_P1, num_P3]</td>\n",
       "      <td>11890928</td>\n",
       "      <td>38.726</td>\n",
       "      <td>3</td>\n",
       "      <td>wd_P2</td>\n",
       "      <td>atm_P1</td>\n",
       "      <td>num_P3</td>\n",
       "    </tr>\n",
       "    <tr>\n",
       "      <th>48</th>\n",
       "      <td>[adj_P3, book_P2, num_P1]</td>\n",
       "      <td>454389</td>\n",
       "      <td>1.480</td>\n",
       "      <td>3</td>\n",
       "      <td>adj_P3</td>\n",
       "      <td>book_P2</td>\n",
       "      <td>num_P1</td>\n",
       "    </tr>\n",
       "    <tr>\n",
       "      <th>52</th>\n",
       "      <td>[cwb_P1, self_P2, num_P3]</td>\n",
       "      <td>40038</td>\n",
       "      <td>0.130</td>\n",
       "      <td>3</td>\n",
       "      <td>cwb_P1</td>\n",
       "      <td>self_P2</td>\n",
       "      <td>num_P3</td>\n",
       "    </tr>\n",
       "    <tr>\n",
       "      <th>66</th>\n",
       "      <td>[ngn_P3, revaluation_P1, of_P2]</td>\n",
       "      <td>41197</td>\n",
       "      <td>0.134</td>\n",
       "      <td>3</td>\n",
       "      <td>ngn_P3</td>\n",
       "      <td>revaluation_P1</td>\n",
       "      <td>of_P2</td>\n",
       "    </tr>\n",
       "    <tr>\n",
       "      <th>82</th>\n",
       "      <td>[book_P1, interest_P2, for_P3]</td>\n",
       "      <td>59114</td>\n",
       "      <td>0.193</td>\n",
       "      <td>3</td>\n",
       "      <td>book_P1</td>\n",
       "      <td>interest_P2</td>\n",
       "      <td>for_P3</td>\n",
       "    </tr>\n",
       "    <tr>\n",
       "      <th>102</th>\n",
       "      <td>[on_P3, vat_P2, upay_P1]</td>\n",
       "      <td>33846</td>\n",
       "      <td>0.110</td>\n",
       "      <td>3</td>\n",
       "      <td>on_P3</td>\n",
       "      <td>vat_P2</td>\n",
       "      <td>upay_P1</td>\n",
       "    </tr>\n",
       "    <tr>\n",
       "      <th>112</th>\n",
       "      <td>[ifo_P3, chq_P1, num_P2]</td>\n",
       "      <td>30781</td>\n",
       "      <td>0.100</td>\n",
       "      <td>3</td>\n",
       "      <td>ifo_P3</td>\n",
       "      <td>chq_P1</td>\n",
       "      <td>num_P2</td>\n",
       "    </tr>\n",
       "    <tr>\n",
       "      <th>117</th>\n",
       "      <td>[late_P3, numcnum_P2, fnn_P1]</td>\n",
       "      <td>121887</td>\n",
       "      <td>0.397</td>\n",
       "      <td>3</td>\n",
       "      <td>late_P3</td>\n",
       "      <td>numcnum_P2</td>\n",
       "      <td>fnn_P1</td>\n",
       "    </tr>\n",
       "    <tr>\n",
       "      <th>122</th>\n",
       "      <td>[rou_P1, fee_P2, atm_P3]</td>\n",
       "      <td>825084</td>\n",
       "      <td>2.687</td>\n",
       "      <td>3</td>\n",
       "      <td>rou_P1</td>\n",
       "      <td>fee_P2</td>\n",
       "      <td>atm_P3</td>\n",
       "    </tr>\n",
       "    <tr>\n",
       "      <th>131</th>\n",
       "      <td>[kcgaming_P3, ppp_P1, bc_P2]</td>\n",
       "      <td>36809</td>\n",
       "      <td>0.120</td>\n",
       "      <td>3</td>\n",
       "      <td>kcgaming_P3</td>\n",
       "      <td>ppp_P1</td>\n",
       "      <td>bc_P2</td>\n",
       "    </tr>\n",
       "    <tr>\n",
       "      <th>134</th>\n",
       "      <td>[pur_P2, atm_P1, num_P3]</td>\n",
       "      <td>329419</td>\n",
       "      <td>1.073</td>\n",
       "      <td>3</td>\n",
       "      <td>pur_P2</td>\n",
       "      <td>atm_P1</td>\n",
       "      <td>num_P3</td>\n",
       "    </tr>\n",
       "    <tr>\n",
       "      <th>143</th>\n",
       "      <td>[sms_P1, sms_P2, charges_P3]</td>\n",
       "      <td>3188049</td>\n",
       "      <td>10.383</td>\n",
       "      <td>3</td>\n",
       "      <td>sms_P1</td>\n",
       "      <td>sms_P2</td>\n",
       "      <td>charges_P3</td>\n",
       "    </tr>\n",
       "    <tr>\n",
       "      <th>148</th>\n",
       "      <td>[connect_P3, u_P2, upay_P1]</td>\n",
       "      <td>30735</td>\n",
       "      <td>0.100</td>\n",
       "      <td>3</td>\n",
       "      <td>connect_P3</td>\n",
       "      <td>u_P2</td>\n",
       "      <td>upay_P1</td>\n",
       "    </tr>\n",
       "    <tr>\n",
       "      <th>152</th>\n",
       "      <td>[mobpymt_P1, pp_P3, 4qtlnum_P2]</td>\n",
       "      <td>370722</td>\n",
       "      <td>1.207</td>\n",
       "      <td>3</td>\n",
       "      <td>mobpymt_P1</td>\n",
       "      <td>pp_P3</td>\n",
       "      <td>4qtlnum_P2</td>\n",
       "    </tr>\n",
       "    <tr>\n",
       "      <th>158</th>\n",
       "      <td>[3bolnum_P3, web_P1, trf_P2]</td>\n",
       "      <td>54954</td>\n",
       "      <td>0.179</td>\n",
       "      <td>3</td>\n",
       "      <td>3bolnum_P3</td>\n",
       "      <td>web_P1</td>\n",
       "      <td>trf_P2</td>\n",
       "    </tr>\n",
       "    <tr>\n",
       "      <th>162</th>\n",
       "      <td>[int_P2, pd_P3, num_P1]</td>\n",
       "      <td>2142323</td>\n",
       "      <td>6.977</td>\n",
       "      <td>3</td>\n",
       "      <td>int_P2</td>\n",
       "      <td>pd_P3</td>\n",
       "      <td>num_P1</td>\n",
       "    </tr>\n",
       "    <tr>\n",
       "      <th>166</th>\n",
       "      <td>[cif_P2, cif_P1, num_P3]</td>\n",
       "      <td>160079</td>\n",
       "      <td>0.521</td>\n",
       "      <td>3</td>\n",
       "      <td>cif_P2</td>\n",
       "      <td>cif_P1</td>\n",
       "      <td>num_P3</td>\n",
       "    </tr>\n",
       "    <tr>\n",
       "      <th>170</th>\n",
       "      <td>[dr_P2, pos_P1, num_P3]</td>\n",
       "      <td>36608</td>\n",
       "      <td>0.119</td>\n",
       "      <td>3</td>\n",
       "      <td>dr_P2</td>\n",
       "      <td>pos_P1</td>\n",
       "      <td>num_P3</td>\n",
       "    </tr>\n",
       "    <tr>\n",
       "      <th>174</th>\n",
       "      <td>[pos_P1, pur_P2, num_P3]</td>\n",
       "      <td>33929</td>\n",
       "      <td>0.110</td>\n",
       "      <td>3</td>\n",
       "      <td>pos_P1</td>\n",
       "      <td>pur_P2</td>\n",
       "      <td>num_P3</td>\n",
       "    </tr>\n",
       "    <tr>\n",
       "      <th>181</th>\n",
       "      <td>[ubr_P3, web_P1, pur_P2]</td>\n",
       "      <td>110015</td>\n",
       "      <td>0.358</td>\n",
       "      <td>3</td>\n",
       "      <td>ubr_P3</td>\n",
       "      <td>web_P1</td>\n",
       "      <td>pur_P2</td>\n",
       "    </tr>\n",
       "    <tr>\n",
       "      <th>186</th>\n",
       "      <td>[duty_P2, stamp_P1, chrg_P3]</td>\n",
       "      <td>75210</td>\n",
       "      <td>0.245</td>\n",
       "      <td>3</td>\n",
       "      <td>duty_P2</td>\n",
       "      <td>stamp_P1</td>\n",
       "      <td>chrg_P3</td>\n",
       "    </tr>\n",
       "    <tr>\n",
       "      <th>197</th>\n",
       "      <td>[wtax_P2, pd_P3, num_P1]</td>\n",
       "      <td>2085111</td>\n",
       "      <td>6.791</td>\n",
       "      <td>3</td>\n",
       "      <td>wtax_P2</td>\n",
       "      <td>pd_P3</td>\n",
       "      <td>num_P1</td>\n",
       "    </tr>\n",
       "  </tbody>\n",
       "</table>\n",
       "</div>"
      ],
      "text/plain": [
       "                            tree_map  absolute_support  support_ratio  num_Ps  \\\n",
       "2       [3qtl002_P3, web_P1, trf_P2]            103175          0.336       3   \n",
       "8          [self_P2, cdb_P1, num_P3]             51897          0.169       3   \n",
       "13          [trf_P2, atm_P1, num_P3]           1046775          3.409       3   \n",
       "33             [tr_P3, r_P1, num_P2]            101320          0.330       3   \n",
       "36     [april_P3, card_P1, maint_P2]            284458          0.926       3   \n",
       "42           [wd_P2, atm_P1, num_P3]          11890928         38.726       3   \n",
       "48         [adj_P3, book_P2, num_P1]            454389          1.480       3   \n",
       "52         [cwb_P1, self_P2, num_P3]             40038          0.130       3   \n",
       "66   [ngn_P3, revaluation_P1, of_P2]             41197          0.134       3   \n",
       "82    [book_P1, interest_P2, for_P3]             59114          0.193       3   \n",
       "102         [on_P3, vat_P2, upay_P1]             33846          0.110       3   \n",
       "112         [ifo_P3, chq_P1, num_P2]             30781          0.100       3   \n",
       "117    [late_P3, numcnum_P2, fnn_P1]            121887          0.397       3   \n",
       "122         [rou_P1, fee_P2, atm_P3]            825084          2.687       3   \n",
       "131     [kcgaming_P3, ppp_P1, bc_P2]             36809          0.120       3   \n",
       "134         [pur_P2, atm_P1, num_P3]            329419          1.073       3   \n",
       "143     [sms_P1, sms_P2, charges_P3]           3188049         10.383       3   \n",
       "148      [connect_P3, u_P2, upay_P1]             30735          0.100       3   \n",
       "152  [mobpymt_P1, pp_P3, 4qtlnum_P2]            370722          1.207       3   \n",
       "158     [3bolnum_P3, web_P1, trf_P2]             54954          0.179       3   \n",
       "162          [int_P2, pd_P3, num_P1]           2142323          6.977       3   \n",
       "166         [cif_P2, cif_P1, num_P3]            160079          0.521       3   \n",
       "170          [dr_P2, pos_P1, num_P3]             36608          0.119       3   \n",
       "174         [pos_P1, pur_P2, num_P3]             33929          0.110       3   \n",
       "181         [ubr_P3, web_P1, pur_P2]            110015          0.358       3   \n",
       "186     [duty_P2, stamp_P1, chrg_P3]             75210          0.245       3   \n",
       "197         [wtax_P2, pd_P3, num_P1]           2085111          6.791       3   \n",
       "\n",
       "           Key_1           Key_2       Key_3  \n",
       "2     3qtl002_P3          web_P1      trf_P2  \n",
       "8        self_P2          cdb_P1      num_P3  \n",
       "13        trf_P2          atm_P1      num_P3  \n",
       "33         tr_P3            r_P1      num_P2  \n",
       "36      april_P3         card_P1    maint_P2  \n",
       "42         wd_P2          atm_P1      num_P3  \n",
       "48        adj_P3         book_P2      num_P1  \n",
       "52        cwb_P1         self_P2      num_P3  \n",
       "66        ngn_P3  revaluation_P1       of_P2  \n",
       "82       book_P1     interest_P2      for_P3  \n",
       "102        on_P3          vat_P2     upay_P1  \n",
       "112       ifo_P3          chq_P1      num_P2  \n",
       "117      late_P3      numcnum_P2      fnn_P1  \n",
       "122       rou_P1          fee_P2      atm_P3  \n",
       "131  kcgaming_P3          ppp_P1       bc_P2  \n",
       "134       pur_P2          atm_P1      num_P3  \n",
       "143       sms_P1          sms_P2  charges_P3  \n",
       "148   connect_P3            u_P2     upay_P1  \n",
       "152   mobpymt_P1           pp_P3  4qtlnum_P2  \n",
       "158   3bolnum_P3          web_P1      trf_P2  \n",
       "162       int_P2           pd_P3      num_P1  \n",
       "166       cif_P2          cif_P1      num_P3  \n",
       "170        dr_P2          pos_P1      num_P3  \n",
       "174       pos_P1          pur_P2      num_P3  \n",
       "181       ubr_P3          web_P1      pur_P2  \n",
       "186      duty_P2        stamp_P1     chrg_P3  \n",
       "197      wtax_P2           pd_P3      num_P1  "
      ]
     },
     "execution_count": 14,
     "metadata": {},
     "output_type": "execute_result"
    }
   ],
   "source": [
    "fp_df['Key_1'] = fp_df['tree_map'].apply(lambda l:l[0])\n",
    "fp_df['Key_2'] = fp_df['tree_map'].apply(create_elem,args=(1,))\n",
    "fp_df['Key_3'] = fp_df['tree_map'].apply(create_elem,args=(2,))\n",
    "\n",
    "print(len(fp_df[fp_df['Key_3'] != '']))\n",
    "fp_df[fp_df['Key_3'] != '']"
   ]
  },
  {
   "cell_type": "code",
   "execution_count": 15,
   "metadata": {
    "collapsed": true
   },
   "outputs": [],
   "source": [
    "\n",
    "fp_df.to_csv(fp_tree_1M,sep = '|')"
   ]
  }
 ],
 "metadata": {
  "kernelspec": {
   "display_name": "Python 3",
   "language": "python",
   "name": "python3"
  },
  "language_info": {
   "codemirror_mode": {
    "name": "ipython",
    "version": 3
   },
   "file_extension": ".py",
   "mimetype": "text/x-python",
   "name": "python",
   "nbconvert_exporter": "python",
   "pygments_lexer": "ipython3",
   "version": "3.6.1"
  }
 },
 "nbformat": 4,
 "nbformat_minor": 2
}
