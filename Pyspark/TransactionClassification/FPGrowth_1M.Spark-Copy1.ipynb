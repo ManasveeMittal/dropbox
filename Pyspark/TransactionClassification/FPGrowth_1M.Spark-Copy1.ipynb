{
 "cells": [
  {
   "cell_type": "code",
   "execution_count": 1,
   "metadata": {
    "collapsed": true
   },
   "outputs": [],
   "source": [
    "import pandas as pd\n",
    "import re\n",
    "from time import time\n",
    "from pprint import pprint"
   ]
  },
  {
   "cell_type": "code",
   "execution_count": 2,
   "metadata": {
    "collapsed": true
   },
   "outputs": [],
   "source": [
    "from pyspark.mllib.fpm import FPGrowth"
   ]
  },
  {
   "cell_type": "code",
   "execution_count": 51,
   "metadata": {
    "collapsed": true
   },
   "outputs": [],
   "source": [
    "#config\n",
    "datafile = '/home/test/Documents/DataCleansing/Transaction Classification Problem/dataset_5BCDE.csv'\n",
    "processed_data_out='/home/test/Documents/DataCleansing/Transaction Classification Problem/Processed_1M.csv'\n",
    "fp_tree_1M = '/home/test/Documents/DataCleansing/Transaction Classification Problem/fp_tree_1M.csv'\n",
    "\n",
    "parts = 10\n",
    "num_obs=10"
   ]
  },
  {
   "cell_type": "code",
   "execution_count": 7,
   "metadata": {
    "collapsed": true
   },
   "outputs": [],
   "source": [
    "num_rep='\\d{4,}'"
   ]
  },
  {
   "cell_type": "code",
   "execution_count": 52,
   "metadata": {
    "scrolled": true
   },
   "outputs": [
    {
     "name": "stdout",
     "output_type": "stream",
     "text": [
      "['TD007411000169,TDS', 'Closure,proceeds,credited,to,TD039111000395,', 'VLT,TO,T09', 'CASH,RECEIPT', 'BNG,CS,LOADED,AS,AT,02,5,16', 'CASH,RECEIPT', 'CASH,RECEIPT', 'CASH,RECEIPT', 'CASH,RECEIPT', 'VLT,T1'] \n",
      "\n",
      "['TDNUM,TDS', 'Closure,proceeds,credited,to,TDNUM,', 'VLT,TO,T09', 'CASH,RECEIPT', 'BNG,CS,LOADED,AS,AT,02,5,16', 'CASH,RECEIPT', 'CASH,RECEIPT', 'CASH,RECEIPT', 'CASH,RECEIPT', 'VLT,T1'] \n",
      "\n",
      "[['tdnum', 'tds'], ['closure', 'proceeds', 'credited'], ['vlt', 'to', 't09'], ['cash', 'receipt'], ['bng', 'cs', 'loaded'], ['cash', 'receipt'], ['cash', 'receipt'], ['cash', 'receipt'], ['cash', 'receipt'], ['vlt', 't1']] \n",
      "\n",
      "[['tdnum_P1', 'tds_P2'], ['closure_P1', 'proceeds_P2', 'credited_P3'], ['vlt_P1', 'to_P2', 't09_P3'], ['cash_P1', 'receipt_P2'], ['bng_P1', 'cs_P2', 'loaded_P3'], ['cash_P1', 'receipt_P2'], ['cash_P1', 'receipt_P2'], ['cash_P1', 'receipt_P2'], ['cash_P1', 'receipt_P2'], ['vlt_P1', 't1_P2']] \n",
      "\n"
     ]
    }
   ],
   "source": [
    "data = sc.textFile(datafile,minPartitions=parts)\n",
    "\n",
    "\n",
    "header = data.first()\n",
    "data = data.filter(lambda line: line != header)\n",
    "# print(data.take(num_obs),'\\n')\n",
    "data = data.map(lambda x: x.split(\"|\"))\n",
    "# print(data.take(num_obs),'\\n')\n",
    "data = data.map(lambda x: x[1])\n",
    "# print(data.take(num_obs),'\\n')\n",
    "data = data.map(lambda line:re.sub('[^A-Za-z0-9]+', ',', line))\n",
    "print(data.take(num_obs),'\\n')\n",
    "data = data.map(lambda line:re.sub(num_rep, 'NUM', line))\n",
    "print(data.take(num_obs),'\\n')\n",
    "data = data.map(lambda line: line.lower().strip().split(',')[:3])\n",
    "print(data.take(num_obs),'\\n')\n",
    "data = data.map(lambda line: [elem+'_P'+str(idx+1) for (elem,idx) in zip(line,range(len(line)))])\n",
    "print(data.take(num_obs),'\\n')\n"
   ]
  },
  {
   "cell_type": "code",
   "execution_count": null,
   "metadata": {
    "collapsed": true
   },
   "outputs": [],
   "source": [
    "datamodel = FPGrowth.train(data,minSupport=0.001,numPartitions=10)\n"
   ]
  },
  {
   "cell_type": "code",
   "execution_count": 9,
   "metadata": {
    "collapsed": true
   },
   "outputs": [],
   "source": [
    "data.saveAsTextFile(processed_data_out)"
   ]
  },
  {
   "cell_type": "code",
   "execution_count": 10,
   "metadata": {},
   "outputs": [
    {
     "data": {
      "text/plain": [
       "10"
      ]
     },
     "execution_count": 10,
     "metadata": {},
     "output_type": "execute_result"
    }
   ],
   "source": [
    "df=data.toDF()\n",
    "# data.take(100)\n",
    "data.getNumPartitions()"
   ]
  },
  {
   "cell_type": "code",
   "execution_count": 15,
   "metadata": {},
   "outputs": [
    {
     "data": {
      "text/plain": [
       "([Row(_1='trf_P1', _2='ifo_P2', _3='crsg_P3'),\n",
       "  Row(_1='fee_P1', _2='on_P2', _3='od_P3'),\n",
       "  Row(_1='shortfall_P1', _2='iro_P2', _3='crsg_P3'),\n",
       "  Row(_1='part_P1', _2='pymt_P2', _3='num_P3')],\n",
       " Row(_1='trf_P1', _2='ifo_P2', _3='crsg_P3'))"
      ]
     },
     "execution_count": 15,
     "metadata": {},
     "output_type": "execute_result"
    }
   ],
   "source": [
    "df.head(4),df.first()"
   ]
  },
  {
   "cell_type": "code",
   "execution_count": null,
   "metadata": {
    "collapsed": true
   },
   "outputs": [],
   "source": [
    "result = datamodel.freqItemsets().collect()\n",
    "print(len(result))\n",
    "result[:10],result[-10:]"
   ]
  },
  {
   "cell_type": "code",
   "execution_count": 18,
   "metadata": {},
   "outputs": [
    {
     "data": {
      "text/plain": [
       "999999"
      ]
     },
     "execution_count": 18,
     "metadata": {},
     "output_type": "execute_result"
    }
   ],
   "source": [
    "data_length = data.count()\n",
    "data_length"
   ]
  },
  {
   "cell_type": "code",
   "execution_count": 19,
   "metadata": {},
   "outputs": [
    {
     "name": "stdout",
     "output_type": "stream",
     "text": [
      "[[['num_P1'], 1644, 0.164],\n",
      " [['mobpymt_P1'], 9246, 0.925],\n",
      " [['mobpymt_P1', 'pp_P3'], 9238, 0.924],\n",
      " [['mobpymt_P1', 'pp_P3', '4qtlnum_P2'], 9238, 0.924],\n",
      " [['mobpymt_P1', '4qtlnum_P2'], 9246, 0.925]]\n"
     ]
    }
   ],
   "source": [
    "#creating list of fp_tree\n",
    "fp_tree_list =[[item[0],item[1],round(100*item[1]/data_length,3)] for item in result]\n",
    "len(fp_tree_list)\n",
    "pprint(fp_tree_list[:5])"
   ]
  },
  {
   "cell_type": "code",
   "execution_count": 20,
   "metadata": {
    "collapsed": true
   },
   "outputs": [],
   "source": [
    "#create dictionary of Fp tree\n",
    "fp_tree_dict = {}\n",
    "i=0\n",
    "for elem in result:\n",
    "    i+=1\n",
    "    fp_tree_dict[str(elem[0])]=[elem[1],round(100*elem[1]/data_length,2)]\n",
    "# result[0][1]\n",
    "# print(fp_tree_dict.items())"
   ]
  },
  {
   "cell_type": "code",
   "execution_count": 21,
   "metadata": {},
   "outputs": [
    {
     "name": "stdout",
     "output_type": "stream",
     "text": [
      "                          tree_map  absolute_support  support_ratio\n",
      "0                         [num_P1]              1644          0.164\n",
      "1                     [mobpymt_P1]              9246          0.925\n",
      "2              [mobpymt_P1, pp_P3]              9238          0.924\n",
      "3  [mobpymt_P1, pp_P3, 4qtlnum_P2]              9238          0.924\n",
      "4         [mobpymt_P1, 4qtlnum_P2]              9246          0.925\n"
     ]
    }
   ],
   "source": [
    "#creating dataframe of FP tree\n",
    "import pandas as pd\n",
    "fp_df = pd.DataFrame(fp_tree_list,columns=['tree_map', 'absolute_support', 'support_ratio'])\n",
    "print(fp_df.head())"
   ]
  },
  {
   "cell_type": "code",
   "execution_count": 22,
   "metadata": {
    "collapsed": true
   },
   "outputs": [],
   "source": [
    "fp_df['num_Ps']=fp_df['tree_map'].apply(lambda x:len(x))"
   ]
  },
  {
   "cell_type": "code",
   "execution_count": 23,
   "metadata": {},
   "outputs": [
    {
     "data": {
      "text/html": [
       "<div>\n",
       "<style>\n",
       "    .dataframe thead tr:only-child th {\n",
       "        text-align: right;\n",
       "    }\n",
       "\n",
       "    .dataframe thead th {\n",
       "        text-align: left;\n",
       "    }\n",
       "\n",
       "    .dataframe tbody tr th {\n",
       "        vertical-align: top;\n",
       "    }\n",
       "</style>\n",
       "<table border=\"1\" class=\"dataframe\">\n",
       "  <thead>\n",
       "    <tr style=\"text-align: right;\">\n",
       "      <th></th>\n",
       "      <th>tree_map</th>\n",
       "      <th>absolute_support</th>\n",
       "      <th>support_ratio</th>\n",
       "      <th>num_Ps</th>\n",
       "    </tr>\n",
       "  </thead>\n",
       "  <tbody>\n",
       "    <tr>\n",
       "      <th>0</th>\n",
       "      <td>[num_P1]</td>\n",
       "      <td>1644</td>\n",
       "      <td>0.164</td>\n",
       "      <td>1</td>\n",
       "    </tr>\n",
       "    <tr>\n",
       "      <th>1</th>\n",
       "      <td>[mobpymt_P1]</td>\n",
       "      <td>9246</td>\n",
       "      <td>0.925</td>\n",
       "      <td>1</td>\n",
       "    </tr>\n",
       "    <tr>\n",
       "      <th>2</th>\n",
       "      <td>[mobpymt_P1, pp_P3]</td>\n",
       "      <td>9238</td>\n",
       "      <td>0.924</td>\n",
       "      <td>2</td>\n",
       "    </tr>\n",
       "    <tr>\n",
       "      <th>3</th>\n",
       "      <td>[mobpymt_P1, pp_P3, 4qtlnum_P2]</td>\n",
       "      <td>9238</td>\n",
       "      <td>0.924</td>\n",
       "      <td>3</td>\n",
       "    </tr>\n",
       "    <tr>\n",
       "      <th>4</th>\n",
       "      <td>[mobpymt_P1, 4qtlnum_P2]</td>\n",
       "      <td>9246</td>\n",
       "      <td>0.925</td>\n",
       "      <td>2</td>\n",
       "    </tr>\n",
       "    <tr>\n",
       "      <th>5</th>\n",
       "      <td>[cw_P1]</td>\n",
       "      <td>2175</td>\n",
       "      <td>0.218</td>\n",
       "      <td>1</td>\n",
       "    </tr>\n",
       "    <tr>\n",
       "      <th>6</th>\n",
       "      <td>[cw_P1, by_P2]</td>\n",
       "      <td>1088</td>\n",
       "      <td>0.109</td>\n",
       "      <td>2</td>\n",
       "    </tr>\n",
       "    <tr>\n",
       "      <th>7</th>\n",
       "      <td>[self_P2]</td>\n",
       "      <td>16961</td>\n",
       "      <td>1.696</td>\n",
       "      <td>1</td>\n",
       "    </tr>\n",
       "    <tr>\n",
       "      <th>8</th>\n",
       "      <td>[self_P2, cdb_P1]</td>\n",
       "      <td>6157</td>\n",
       "      <td>0.616</td>\n",
       "      <td>2</td>\n",
       "    </tr>\n",
       "    <tr>\n",
       "      <th>9</th>\n",
       "      <td>[self_P2, cdb_P1, num_P3]</td>\n",
       "      <td>5684</td>\n",
       "      <td>0.568</td>\n",
       "      <td>3</td>\n",
       "    </tr>\n",
       "    <tr>\n",
       "      <th>10</th>\n",
       "      <td>[self_P2, num_P3]</td>\n",
       "      <td>12245</td>\n",
       "      <td>1.225</td>\n",
       "      <td>2</td>\n",
       "    </tr>\n",
       "    <tr>\n",
       "      <th>11</th>\n",
       "      <td>[06bknum_P1]</td>\n",
       "      <td>1147</td>\n",
       "      <td>0.115</td>\n",
       "      <td>1</td>\n",
       "    </tr>\n",
       "    <tr>\n",
       "      <th>12</th>\n",
       "      <td>[revaluation_P1]</td>\n",
       "      <td>5630</td>\n",
       "      <td>0.563</td>\n",
       "      <td>1</td>\n",
       "    </tr>\n",
       "    <tr>\n",
       "      <th>13</th>\n",
       "      <td>[revaluation_P1, of_P2]</td>\n",
       "      <td>5630</td>\n",
       "      <td>0.563</td>\n",
       "      <td>2</td>\n",
       "    </tr>\n",
       "    <tr>\n",
       "      <th>14</th>\n",
       "      <td>[num_P3]</td>\n",
       "      <td>614864</td>\n",
       "      <td>61.486</td>\n",
       "      <td>1</td>\n",
       "    </tr>\n",
       "    <tr>\n",
       "      <th>15</th>\n",
       "      <td>[no_P2]</td>\n",
       "      <td>2137</td>\n",
       "      <td>0.214</td>\n",
       "      <td>1</td>\n",
       "    </tr>\n",
       "    <tr>\n",
       "      <th>16</th>\n",
       "      <td>[no_P2, chq_P1]</td>\n",
       "      <td>2020</td>\n",
       "      <td>0.202</td>\n",
       "      <td>2</td>\n",
       "    </tr>\n",
       "    <tr>\n",
       "      <th>17</th>\n",
       "      <td>[no_P2, chq_P1, num_P3]</td>\n",
       "      <td>1210</td>\n",
       "      <td>0.121</td>\n",
       "      <td>3</td>\n",
       "    </tr>\n",
       "    <tr>\n",
       "      <th>18</th>\n",
       "      <td>[no_P2, num_P3]</td>\n",
       "      <td>1317</td>\n",
       "      <td>0.132</td>\n",
       "      <td>2</td>\n",
       "    </tr>\n",
       "    <tr>\n",
       "      <th>19</th>\n",
       "      <td>[chq_P1]</td>\n",
       "      <td>16052</td>\n",
       "      <td>1.605</td>\n",
       "      <td>1</td>\n",
       "    </tr>\n",
       "  </tbody>\n",
       "</table>\n",
       "</div>"
      ],
      "text/plain": [
       "                           tree_map  absolute_support  support_ratio  num_Ps\n",
       "0                          [num_P1]              1644          0.164       1\n",
       "1                      [mobpymt_P1]              9246          0.925       1\n",
       "2               [mobpymt_P1, pp_P3]              9238          0.924       2\n",
       "3   [mobpymt_P1, pp_P3, 4qtlnum_P2]              9238          0.924       3\n",
       "4          [mobpymt_P1, 4qtlnum_P2]              9246          0.925       2\n",
       "5                           [cw_P1]              2175          0.218       1\n",
       "6                    [cw_P1, by_P2]              1088          0.109       2\n",
       "7                         [self_P2]             16961          1.696       1\n",
       "8                 [self_P2, cdb_P1]              6157          0.616       2\n",
       "9         [self_P2, cdb_P1, num_P3]              5684          0.568       3\n",
       "10                [self_P2, num_P3]             12245          1.225       2\n",
       "11                     [06bknum_P1]              1147          0.115       1\n",
       "12                 [revaluation_P1]              5630          0.563       1\n",
       "13          [revaluation_P1, of_P2]              5630          0.563       2\n",
       "14                         [num_P3]            614864         61.486       1\n",
       "15                          [no_P2]              2137          0.214       1\n",
       "16                  [no_P2, chq_P1]              2020          0.202       2\n",
       "17          [no_P2, chq_P1, num_P3]              1210          0.121       3\n",
       "18                  [no_P2, num_P3]              1317          0.132       2\n",
       "19                         [chq_P1]             16052          1.605       1"
      ]
     },
     "execution_count": 23,
     "metadata": {},
     "output_type": "execute_result"
    }
   ],
   "source": [
    "fp_df.head(20)"
   ]
  },
  {
   "cell_type": "code",
   "execution_count": 24,
   "metadata": {},
   "outputs": [
    {
     "data": {
      "text/plain": [
       "1    66\n",
       "2    63\n",
       "3    15\n",
       "Name: num_Ps, dtype: int64"
      ]
     },
     "execution_count": 24,
     "metadata": {},
     "output_type": "execute_result"
    }
   ],
   "source": [
    "fp_df.num_Ps.value_counts()"
   ]
  },
  {
   "cell_type": "code",
   "execution_count": 25,
   "metadata": {},
   "outputs": [
    {
     "data": {
      "text/html": [
       "<div>\n",
       "<style>\n",
       "    .dataframe thead tr:only-child th {\n",
       "        text-align: right;\n",
       "    }\n",
       "\n",
       "    .dataframe thead th {\n",
       "        text-align: left;\n",
       "    }\n",
       "\n",
       "    .dataframe tbody tr th {\n",
       "        vertical-align: top;\n",
       "    }\n",
       "</style>\n",
       "<table border=\"1\" class=\"dataframe\">\n",
       "  <thead>\n",
       "    <tr style=\"text-align: right;\">\n",
       "      <th></th>\n",
       "      <th>absolute_support</th>\n",
       "      <th>support_ratio</th>\n",
       "    </tr>\n",
       "    <tr>\n",
       "      <th>num_Ps</th>\n",
       "      <th></th>\n",
       "      <th></th>\n",
       "    </tr>\n",
       "  </thead>\n",
       "  <tbody>\n",
       "    <tr>\n",
       "      <th>1</th>\n",
       "      <td>37040.590909</td>\n",
       "      <td>3.704152</td>\n",
       "    </tr>\n",
       "    <tr>\n",
       "      <th>2</th>\n",
       "      <td>32883.587302</td>\n",
       "      <td>3.288444</td>\n",
       "    </tr>\n",
       "    <tr>\n",
       "      <th>3</th>\n",
       "      <td>40760.066667</td>\n",
       "      <td>4.076133</td>\n",
       "    </tr>\n",
       "  </tbody>\n",
       "</table>\n",
       "</div>"
      ],
      "text/plain": [
       "        absolute_support  support_ratio\n",
       "num_Ps                                 \n",
       "1           37040.590909       3.704152\n",
       "2           32883.587302       3.288444\n",
       "3           40760.066667       4.076133"
      ]
     },
     "execution_count": 25,
     "metadata": {},
     "output_type": "execute_result"
    }
   ],
   "source": [
    "fp_df.groupby('num_Ps').agg('mean')"
   ]
  },
  {
   "cell_type": "code",
   "execution_count": 26,
   "metadata": {
    "collapsed": true
   },
   "outputs": [],
   "source": [
    "def create_elem(l,i):\n",
    "    if len(l) > i:\n",
    "        return l[i]\n",
    "    else:\n",
    "        return ''"
   ]
  },
  {
   "cell_type": "code",
   "execution_count": 27,
   "metadata": {},
   "outputs": [
    {
     "name": "stdout",
     "output_type": "stream",
     "text": [
      "15\n"
     ]
    },
    {
     "data": {
      "text/html": [
       "<div>\n",
       "<style>\n",
       "    .dataframe thead tr:only-child th {\n",
       "        text-align: right;\n",
       "    }\n",
       "\n",
       "    .dataframe thead th {\n",
       "        text-align: left;\n",
       "    }\n",
       "\n",
       "    .dataframe tbody tr th {\n",
       "        vertical-align: top;\n",
       "    }\n",
       "</style>\n",
       "<table border=\"1\" class=\"dataframe\">\n",
       "  <thead>\n",
       "    <tr style=\"text-align: right;\">\n",
       "      <th></th>\n",
       "      <th>tree_map</th>\n",
       "      <th>absolute_support</th>\n",
       "      <th>support_ratio</th>\n",
       "      <th>num_Ps</th>\n",
       "      <th>Key_1</th>\n",
       "      <th>Key_2</th>\n",
       "      <th>Key_3</th>\n",
       "    </tr>\n",
       "  </thead>\n",
       "  <tbody>\n",
       "    <tr>\n",
       "      <th>3</th>\n",
       "      <td>[mobpymt_P1, pp_P3, 4qtlnum_P2]</td>\n",
       "      <td>9238</td>\n",
       "      <td>0.924</td>\n",
       "      <td>3</td>\n",
       "      <td>mobpymt_P1</td>\n",
       "      <td>pp_P3</td>\n",
       "      <td>4qtlnum_P2</td>\n",
       "    </tr>\n",
       "    <tr>\n",
       "      <th>9</th>\n",
       "      <td>[self_P2, cdb_P1, num_P3]</td>\n",
       "      <td>5684</td>\n",
       "      <td>0.568</td>\n",
       "      <td>3</td>\n",
       "      <td>self_P2</td>\n",
       "      <td>cdb_P1</td>\n",
       "      <td>num_P3</td>\n",
       "    </tr>\n",
       "    <tr>\n",
       "      <th>17</th>\n",
       "      <td>[no_P2, chq_P1, num_P3]</td>\n",
       "      <td>1210</td>\n",
       "      <td>0.121</td>\n",
       "      <td>3</td>\n",
       "      <td>no_P2</td>\n",
       "      <td>chq_P1</td>\n",
       "      <td>num_P3</td>\n",
       "    </tr>\n",
       "    <tr>\n",
       "      <th>23</th>\n",
       "      <td>[cwd_P1, self_P3, by_P2]</td>\n",
       "      <td>1395</td>\n",
       "      <td>0.140</td>\n",
       "      <td>3</td>\n",
       "      <td>cwd_P1</td>\n",
       "      <td>self_P3</td>\n",
       "      <td>by_P2</td>\n",
       "    </tr>\n",
       "    <tr>\n",
       "      <th>31</th>\n",
       "      <td>[ifo_P3, num_P2, chq_P1]</td>\n",
       "      <td>3921</td>\n",
       "      <td>0.392</td>\n",
       "      <td>3</td>\n",
       "      <td>ifo_P3</td>\n",
       "      <td>num_P2</td>\n",
       "      <td>chq_P1</td>\n",
       "    </tr>\n",
       "    <tr>\n",
       "      <th>40</th>\n",
       "      <td>[wd_P2, atm_P1, num_P3]</td>\n",
       "      <td>521516</td>\n",
       "      <td>52.152</td>\n",
       "      <td>3</td>\n",
       "      <td>wd_P2</td>\n",
       "      <td>atm_P1</td>\n",
       "      <td>num_P3</td>\n",
       "    </tr>\n",
       "    <tr>\n",
       "      <th>59</th>\n",
       "      <td>[ngn_P3, revaluation_P1, of_P2]</td>\n",
       "      <td>3778</td>\n",
       "      <td>0.378</td>\n",
       "      <td>3</td>\n",
       "      <td>ngn_P3</td>\n",
       "      <td>revaluation_P1</td>\n",
       "      <td>of_P2</td>\n",
       "    </tr>\n",
       "    <tr>\n",
       "      <th>64</th>\n",
       "      <td>[pos_P1, pur_P2, num_P3]</td>\n",
       "      <td>1276</td>\n",
       "      <td>0.128</td>\n",
       "      <td>3</td>\n",
       "      <td>pos_P1</td>\n",
       "      <td>pur_P2</td>\n",
       "      <td>num_P3</td>\n",
       "    </tr>\n",
       "    <tr>\n",
       "      <th>71</th>\n",
       "      <td>[3qtl002_P3, web_P1, trf_P2]</td>\n",
       "      <td>3055</td>\n",
       "      <td>0.306</td>\n",
       "      <td>3</td>\n",
       "      <td>3qtl002_P3</td>\n",
       "      <td>web_P1</td>\n",
       "      <td>trf_P2</td>\n",
       "    </tr>\n",
       "    <tr>\n",
       "      <th>76</th>\n",
       "      <td>[zar_P3, revaluation_P1, of_P2]</td>\n",
       "      <td>1292</td>\n",
       "      <td>0.129</td>\n",
       "      <td>3</td>\n",
       "      <td>zar_P3</td>\n",
       "      <td>revaluation_P1</td>\n",
       "      <td>of_P2</td>\n",
       "    </tr>\n",
       "    <tr>\n",
       "      <th>82</th>\n",
       "      <td>[ubr_P3, web_P1, pur_P2]</td>\n",
       "      <td>3009</td>\n",
       "      <td>0.301</td>\n",
       "      <td>3</td>\n",
       "      <td>ubr_P3</td>\n",
       "      <td>web_P1</td>\n",
       "      <td>pur_P2</td>\n",
       "    </tr>\n",
       "    <tr>\n",
       "      <th>99</th>\n",
       "      <td>[3bolnum_P3, web_P1, trf_P2]</td>\n",
       "      <td>1837</td>\n",
       "      <td>0.184</td>\n",
       "      <td>3</td>\n",
       "      <td>3bolnum_P3</td>\n",
       "      <td>web_P1</td>\n",
       "      <td>trf_P2</td>\n",
       "    </tr>\n",
       "    <tr>\n",
       "      <th>103</th>\n",
       "      <td>[cwb_P1, self_P2, num_P3]</td>\n",
       "      <td>4522</td>\n",
       "      <td>0.452</td>\n",
       "      <td>3</td>\n",
       "      <td>cwb_P1</td>\n",
       "      <td>self_P2</td>\n",
       "      <td>num_P3</td>\n",
       "    </tr>\n",
       "    <tr>\n",
       "      <th>110</th>\n",
       "      <td>[trf_P2, atm_P1, num_P3]</td>\n",
       "      <td>39385</td>\n",
       "      <td>3.939</td>\n",
       "      <td>3</td>\n",
       "      <td>trf_P2</td>\n",
       "      <td>atm_P1</td>\n",
       "      <td>num_P3</td>\n",
       "    </tr>\n",
       "    <tr>\n",
       "      <th>127</th>\n",
       "      <td>[pur_P2, atm_P1, num_P3]</td>\n",
       "      <td>10283</td>\n",
       "      <td>1.028</td>\n",
       "      <td>3</td>\n",
       "      <td>pur_P2</td>\n",
       "      <td>atm_P1</td>\n",
       "      <td>num_P3</td>\n",
       "    </tr>\n",
       "  </tbody>\n",
       "</table>\n",
       "</div>"
      ],
      "text/plain": [
       "                            tree_map  absolute_support  support_ratio  num_Ps  \\\n",
       "3    [mobpymt_P1, pp_P3, 4qtlnum_P2]              9238          0.924       3   \n",
       "9          [self_P2, cdb_P1, num_P3]              5684          0.568       3   \n",
       "17           [no_P2, chq_P1, num_P3]              1210          0.121       3   \n",
       "23          [cwd_P1, self_P3, by_P2]              1395          0.140       3   \n",
       "31          [ifo_P3, num_P2, chq_P1]              3921          0.392       3   \n",
       "40           [wd_P2, atm_P1, num_P3]            521516         52.152       3   \n",
       "59   [ngn_P3, revaluation_P1, of_P2]              3778          0.378       3   \n",
       "64          [pos_P1, pur_P2, num_P3]              1276          0.128       3   \n",
       "71      [3qtl002_P3, web_P1, trf_P2]              3055          0.306       3   \n",
       "76   [zar_P3, revaluation_P1, of_P2]              1292          0.129       3   \n",
       "82          [ubr_P3, web_P1, pur_P2]              3009          0.301       3   \n",
       "99      [3bolnum_P3, web_P1, trf_P2]              1837          0.184       3   \n",
       "103        [cwb_P1, self_P2, num_P3]              4522          0.452       3   \n",
       "110         [trf_P2, atm_P1, num_P3]             39385          3.939       3   \n",
       "127         [pur_P2, atm_P1, num_P3]             10283          1.028       3   \n",
       "\n",
       "          Key_1           Key_2       Key_3  \n",
       "3    mobpymt_P1           pp_P3  4qtlnum_P2  \n",
       "9       self_P2          cdb_P1      num_P3  \n",
       "17        no_P2          chq_P1      num_P3  \n",
       "23       cwd_P1         self_P3       by_P2  \n",
       "31       ifo_P3          num_P2      chq_P1  \n",
       "40        wd_P2          atm_P1      num_P3  \n",
       "59       ngn_P3  revaluation_P1       of_P2  \n",
       "64       pos_P1          pur_P2      num_P3  \n",
       "71   3qtl002_P3          web_P1      trf_P2  \n",
       "76       zar_P3  revaluation_P1       of_P2  \n",
       "82       ubr_P3          web_P1      pur_P2  \n",
       "99   3bolnum_P3          web_P1      trf_P2  \n",
       "103      cwb_P1         self_P2      num_P3  \n",
       "110      trf_P2          atm_P1      num_P3  \n",
       "127      pur_P2          atm_P1      num_P3  "
      ]
     },
     "execution_count": 27,
     "metadata": {},
     "output_type": "execute_result"
    }
   ],
   "source": [
    "fp_df['Key_1'] = fp_df['tree_map'].apply(lambda l:l[0])\n",
    "fp_df['Key_2'] = fp_df['tree_map'].apply(create_elem,args=(1,))\n",
    "fp_df['Key_3'] = fp_df['tree_map'].apply(create_elem,args=(2,))\n",
    "\n",
    "print(len(fp_df[fp_df['Key_3'] != '']))\n",
    "fp_df[fp_df['Key_3'] != '']"
   ]
  },
  {
   "cell_type": "code",
   "execution_count": 28,
   "metadata": {
    "collapsed": true
   },
   "outputs": [],
   "source": [
    "\n",
    "fp_df.to_csv(fp_tree_1M,sep = '|')"
   ]
  },
  {
   "cell_type": "code",
   "execution_count": 29,
   "metadata": {},
   "outputs": [
    {
     "name": "stdout",
     "output_type": "stream",
     "text": [
      "(10, 4)\n",
      "(0, 0)\n"
     ]
    }
   ],
   "source": [
    "seqOp = (lambda x, y: (x[0] + y, x[1] + 1))\n",
    "combOp = (lambda x, y: (x[0] + y[0], x[1] + y[1]))\n",
    "print(sc.parallelize([1, 2, 3, 4]).aggregate((0, 0), seqOp, combOp))\n",
    "print(sc.parallelize([]).aggregate((0, 0), seqOp, combOp))\n",
    "# |      (0, 0)"
   ]
  },
  {
   "cell_type": "code",
   "execution_count": 30,
   "metadata": {},
   "outputs": [
    {
     "name": "stdout",
     "output_type": "stream",
     "text": [
      "-5\n",
      "-5 1\n",
      "-5 2\n",
      "-5 5\n",
      "-5 10\n"
     ]
    }
   ],
   "source": [
    "rdd = sc.parallelize([-5, -4, -3, -2, -1, 1, 2, 3, 4], 10)\n",
    "add = lambda x, y: x + y\n",
    "print(rdd.treeReduce(add))\n",
    "print(rdd.treeReduce(add),1)\n",
    "print(rdd.treeReduce(add),2)\n",
    "print(rdd.treeReduce(add),5)\n",
    "print(rdd.treeReduce(add),10)"
   ]
  },
  {
   "cell_type": "code",
   "execution_count": 11,
   "metadata": {},
   "outputs": [],
   "source": [
    "string_json = sc.parallelize((\"\"\"\\\n",
    "{\"id\":\"123\",\\\n",
    "\"name\":\"judg\"}\"\"\",\"\"\"\\\n",
    "{\"id\":\"124\",\\\n",
    "\"name\":\"judfrfgvfg\"}\"\"\"))"
   ]
  },
  {
   "cell_type": "code",
   "execution_count": 12,
   "metadata": {
    "collapsed": true
   },
   "outputs": [],
   "source": [
    "s_json = spark.read.json(string_json)\n"
   ]
  },
  {
   "cell_type": "code",
   "execution_count": 13,
   "metadata": {},
   "outputs": [
    {
     "data": {
      "text/plain": [
       "[Row(id='123', name='judg'), Row(id='124', name='judfrfgvfg')]"
      ]
     },
     "execution_count": 13,
     "metadata": {},
     "output_type": "execute_result"
    }
   ],
   "source": [
    "s_json.collect()"
   ]
  },
  {
   "cell_type": "code",
   "execution_count": 15,
   "metadata": {},
   "outputs": [
    {
     "name": "stdout",
     "output_type": "stream",
     "text": [
      "+---+----------+\n",
      "| id|      name|\n",
      "+---+----------+\n",
      "|123|      judg|\n",
      "|124|judfrfgvfg|\n",
      "+---+----------+\n",
      "\n"
     ]
    }
   ],
   "source": [
    "s_json.show()"
   ]
  },
  {
   "cell_type": "code",
   "execution_count": 17,
   "metadata": {},
   "outputs": [
    {
     "name": "stdout",
     "output_type": "stream",
     "text": [
      "root\n",
      " |-- id: string (nullable = true)\n",
      " |-- name: string (nullable = true)\n",
      "\n"
     ]
    }
   ],
   "source": [
    "s_json.printSchema()"
   ]
  },
  {
   "cell_type": "code",
   "execution_count": 18,
   "metadata": {
    "collapsed": true
   },
   "outputs": [],
   "source": [
    "# import types\n",
    "from pyspark.sql.types import *"
   ]
  },
  {
   "cell_type": "code",
   "execution_count": 19,
   "metadata": {
    "collapsed": true
   },
   "outputs": [],
   "source": [
    "#generate csv\n",
    "csv_rdd = sc.parallelize([\n",
    "    (123,'katie', 19, 'brown'),\n",
    "    (234,'jhgdfy',98,'red'),\n",
    "    (232, 'simoe',23,'blue')\n",
    "])"
   ]
  },
  {
   "cell_type": "code",
   "execution_count": null,
   "metadata": {
    "collapsed": true
   },
   "outputs": [],
   "source": [
    "#specify schema\n",
    "sche"
   ]
  },
  {
   "cell_type": "code",
   "execution_count": null,
   "metadata": {
    "collapsed": true
   },
   "outputs": [],
   "source": []
  },
  {
   "cell_type": "code",
   "execution_count": null,
   "metadata": {
    "collapsed": true
   },
   "outputs": [],
   "source": []
  },
  {
   "cell_type": "code",
   "execution_count": null,
   "metadata": {
    "collapsed": true
   },
   "outputs": [],
   "source": []
  },
  {
   "cell_type": "code",
   "execution_count": null,
   "metadata": {
    "collapsed": true
   },
   "outputs": [],
   "source": []
  },
  {
   "cell_type": "code",
   "execution_count": null,
   "metadata": {
    "collapsed": true
   },
   "outputs": [],
   "source": []
  }
 ],
 "metadata": {
  "kernelspec": {
   "display_name": "Python 3",
   "language": "python",
   "name": "python3"
  },
  "language_info": {
   "codemirror_mode": {
    "name": "ipython",
    "version": 3
   },
   "file_extension": ".py",
   "mimetype": "text/x-python",
   "name": "python",
   "nbconvert_exporter": "python",
   "pygments_lexer": "ipython3",
   "version": "3.6.1"
  }
 },
 "nbformat": 4,
 "nbformat_minor": 2
}
