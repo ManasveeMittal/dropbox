{
 "cells": [
  {
   "cell_type": "code",
   "execution_count": 2,
   "metadata": {
    "collapsed": false
   },
   "outputs": [
    {
     "data": {
      "text/html": [
       "<!DOCTYPE html PUBLIC \"-//W3C//DTD HTML 4.01//EN\"\n",
       "   \"http://www.w3.org/TR/html4/strict.dtd\">\n",
       "\n",
       "<html>\n",
       "<head>\n",
       "  <title></title>\n",
       "  <meta http-equiv=\"content-type\" content=\"text/html; charset=None\">\n",
       "  <style type=\"text/css\">\n",
       "td.linenos { background-color: #f0f0f0; padding-right: 10px; }\n",
       "span.lineno { background-color: #f0f0f0; padding: 0 5px 0 5px; }\n",
       "pre { line-height: 125%; }\n",
       "body .hll { background-color: #ffffcc }\n",
       "body  { background: #ffffff; }\n",
       "body .c { color: #0000FF } /* Comment */\n",
       "body .k { color: #ff0000; font-weight: bold } /* Keyword */\n",
       "body .n { color: #008000 } /* Name */\n",
       "body .ch { color: #0000FF } /* Comment.Hashbang */\n",
       "body .cm { color: #0000FF } /* Comment.Multiline */\n",
       "body .cp { color: #0000FF } /* Comment.Preproc */\n",
       "body .cpf { color: #0000FF } /* Comment.PreprocFile */\n",
       "body .c1 { color: #0000FF } /* Comment.Single */\n",
       "body .cs { color: #0000FF } /* Comment.Special */\n",
       "body .kc { color: #ff0000; font-weight: bold } /* Keyword.Constant */\n",
       "body .kd { color: #ff0000; font-weight: bold } /* Keyword.Declaration */\n",
       "body .kn { color: #ff0000; font-weight: bold } /* Keyword.Namespace */\n",
       "body .kp { color: #ff0000; font-weight: bold } /* Keyword.Pseudo */\n",
       "body .kr { color: #ff0000; font-weight: bold } /* Keyword.Reserved */\n",
       "body .kt { color: #ff0000; font-weight: bold } /* Keyword.Type */\n",
       "body .s { color: #111111 } /* Literal.String */\n",
       "body .na { color: #008000 } /* Name.Attribute */\n",
       "body .nb { color: #008000 } /* Name.Builtin */\n",
       "body .nc { color: #008000 } /* Name.Class */\n",
       "body .no { color: #008000 } /* Name.Constant */\n",
       "body .nd { color: #008000 } /* Name.Decorator */\n",
       "body .ni { color: #008000 } /* Name.Entity */\n",
       "body .ne { color: #008000 } /* Name.Exception */\n",
       "body .nf { color: #008000 } /* Name.Function */\n",
       "body .nl { color: #008000 } /* Name.Label */\n",
       "body .nn { color: #008000 } /* Name.Namespace */\n",
       "body .nx { color: #008000 } /* Name.Other */\n",
       "body .py { color: #008000 } /* Name.Property */\n",
       "body .nt { color: #008000 } /* Name.Tag */\n",
       "body .nv { color: #008000 } /* Name.Variable */\n",
       "body .sb { color: #111111 } /* Literal.String.Backtick */\n",
       "body .sc { color: #111111 } /* Literal.String.Char */\n",
       "body .sd { color: #111111 } /* Literal.String.Doc */\n",
       "body .s2 { color: #111111 } /* Literal.String.Double */\n",
       "body .se { color: #111111 } /* Literal.String.Escape */\n",
       "body .sh { color: #111111 } /* Literal.String.Heredoc */\n",
       "body .si { color: #111111 } /* Literal.String.Interpol */\n",
       "body .sx { color: #111111 } /* Literal.String.Other */\n",
       "body .sr { color: #111111 } /* Literal.String.Regex */\n",
       "body .s1 { color: #111111 } /* Literal.String.Single */\n",
       "body .ss { color: #111111 } /* Literal.String.Symbol */\n",
       "body .bp { color: #008000 } /* Name.Builtin.Pseudo */\n",
       "body .vc { color: #008000 } /* Name.Variable.Class */\n",
       "body .vg { color: #008000 } /* Name.Variable.Global */\n",
       "body .vi { color: #008000 } /* Name.Variable.Instance */\n",
       "\n",
       "  </style>\n",
       "</head>\n",
       "<body>\n",
       "<h2></h2>\n",
       "\n",
       "<div class=\"highlight\"><pre><span></span><span class=\"s\">27   ods listing close;ods html5 file=stdout options(bitmap_mode=&#39;inline&#39;) device=png; ods graphics on / outputfmt=png;</span><br><span class=\"cm\">NOTE: Writing HTML5 Body file: STDOUT</span><br><span class=\"s\">28   </span><br><span class=\"s\">29   proc sort data=SASHELP.HEART out=WORK.SORTTempTableSorted;</span><br><span class=\"s\">30   \tby Weight_Status;</span><br><span class=\"s\">31   run;</span><br><span class=\"cm\">NOTE: There were 5209 observations read from the data set SASHELP.HEART.</span><br><span class=\"cm\">NOTE: The data set WORK.SORTTEMPTABLESORTED has 5209 observations and 17 variables.</span><br><span class=\"cm\">NOTE: PROCEDURE SORT used (Total process time):</span><br><span class=\"cm\">      real time           0.00 seconds</span><br><span class=\"cm\">      cpu time            0.01 seconds</span><br><span class=\"cm\">      </span><br><span class=\"s\">32   </span><br><span class=\"s\">33   proc transpose data=WORK.SORTTempTableSorted out=WORK.Transpose prefix=Column;</span><br><span class=\"s\">34   \tvar Smoking_Status;</span><br><span class=\"s\">35   \tby Weight_Status;</span><br><span class=\"s\">36   run;</span><br><span class=\"cm\">NOTE: There were 5209 observations read from the data set WORK.SORTTEMPTABLESORTED.</span><br><span class=\"cm\">NOTE: The data set WORK.TRANSPOSE has 4 observations and 3553 variables.</span><br><span class=\"cm\">NOTE: PROCEDURE TRANSPOSE used (Total process time):</span><br><span class=\"cm\">      real time           0.02 seconds</span><br><span class=\"cm\">      cpu time            0.01 seconds</span><br><span class=\"cm\">      </span><br><span class=\"s\">37   </span><br><span class=\"s\">38   proc delete data=WORK.SORTTempTableSorted;</span><br><span class=\"s\">39   run;</span><br><span class=\"cm\">NOTE: Deleting WORK.SORTTEMPTABLESORTED (memtype=DATA).</span><br><span class=\"cm\">NOTE: PROCEDURE DELETE used (Total process time):</span><br><span class=\"cm\">      real time           0.00 seconds</span><br><span class=\"cm\">      cpu time            0.00 seconds</span><br><span class=\"cm\">      </span><br><span class=\"s\">40   ods html5 close;ods listing;</span><br><br><span class=\"s\">41   </span><br></pre></div>\n",
       "</body>\n",
       "</html>\n"
      ],
      "text/plain": [
       "<IPython.core.display.HTML object>"
      ]
     },
     "execution_count": 2,
     "metadata": {},
     "output_type": "execute_result"
    }
   ],
   "source": [
    "proc sort data=SASHELP.HEART out=WORK.SORTTempTableSorted;\n",
    "\tby Weight_Status;\n",
    "run;\n",
    "\n",
    "proc transpose data=WORK.SORTTempTableSorted out=WORK.Transpose prefix=Column;\n",
    "\tvar Smoking_Status;\n",
    "\tby Weight_Status;\n",
    "run;\n",
    "\n",
    "proc delete data=WORK.SORTTempTableSorted;\n",
    "run;"
   ]
  },
  {
   "cell_type": "code",
   "execution_count": null,
   "metadata": {
    "collapsed": true
   },
   "outputs": [],
   "source": []
  }
 ],
 "metadata": {
  "kernelspec": {
   "display_name": "SAS",
   "language": "sas",
   "name": "sas"
  },
  "language_info": {
   "codemirror_mode": "sas",
   "file_extension": ".sas",
   "mimetype": "text/x-sas",
   "name": "sas"
  }
 },
 "nbformat": 4,
 "nbformat_minor": 0
}
