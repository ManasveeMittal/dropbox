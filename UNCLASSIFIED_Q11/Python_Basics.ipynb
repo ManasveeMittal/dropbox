{
 "cells": [
  {
   "cell_type": "code",
   "execution_count": 11,
   "metadata": {},
   "outputs": [
    {
     "name": "stdout",
     "output_type": "stream",
     "text": [
      "16 \n",
      " -17 \n",
      " 0 \n",
      " -19\n"
     ]
    }
   ],
   "source": [
    "a=2\n",
    "b=0x10  #binary numbers\n",
    "print(b,'\\n',~b,'\\n',b^b,'\\n',b^(~a))"
   ]
  },
  {
   "cell_type": "code",
   "execution_count": 23,
   "metadata": {},
   "outputs": [
    {
     "name": "stdout",
     "output_type": "stream",
     "text": [
      "<class 'int'>\n"
     ]
    }
   ],
   "source": [
    "print(type(b)) #object typea = range"
   ]
  },
  {
   "cell_type": "code",
   "execution_count": 43,
   "metadata": {},
   "outputs": [
    {
     "name": "stdout",
     "output_type": "stream",
     "text": [
      "range(2, -30, -4) \n",
      " <class 'range'> \n",
      " [2, -2, -6, -10, -14, -18, -22, -26] \n",
      " {2, -26, -22, -18, -14, -10, -6, -2}\n"
     ]
    }
   ],
   "source": [
    "l = range(2,-30,-4\\\n",
    "         )\n",
    "print(l,'\\n'\\\n",
    "      ,type(l),'\\n'\\\n",
    "      ,list(l),'\\n',\\\n",
    "      set(l))"
   ]
  },
  {
   "cell_type": "code",
   "execution_count": 32,
   "metadata": {},
   "outputs": [
    {
     "name": "stdout",
     "output_type": "stream",
     "text": [
      "2:3\n",
      "-6:-10\n"
     ]
    }
   ],
   "source": [
    "print('{0}:{1}'.format(2,3))\n",
    "print('{0}:{1}'.format(l[2],l[3]))"
   ]
  },
  {
   "cell_type": "code",
   "execution_count": 47,
   "metadata": {},
   "outputs": [
    {
     "name": "stdout",
     "output_type": "stream",
     "text": [
      "b'abc' \n",
      " <class 'bytes'> \n",
      " False \n",
      " True \n",
      "\n",
      "3\n"
     ]
    }
   ],
   "source": [
    "byte1 = b'abc'\n",
    "print(byte1,'\\n'\\\n",
    "     ,type(byte1),'\\n'\\\n",
    "     ,byte1[0]=='a','\\n'\\\n",
    "     ,byte1[0]==97,'\\n')\n",
    "print(len(byte1))"
   ]
  },
  {
   "cell_type": "code",
   "execution_count": 51,
   "metadata": {},
   "outputs": [
    {
     "name": "stdout",
     "output_type": "stream",
     "text": [
      "<class 'bool'> \n",
      " <class 'bool'> \n",
      " <class 'NoneType'> \n",
      " True\n"
     ]
    }
   ],
   "source": [
    "print(type(True),'\\n'\\\n",
    "     ,type(False),'\\n'\\\n",
    "     ,type(None),'\\n'\\\n",
    "     ,None is None)"
   ]
  },
  {
   "cell_type": "code",
   "execution_count": 54,
   "metadata": {},
   "outputs": [
    {
     "name": "stdout",
     "output_type": "stream",
     "text": [
      "<class 'builtin_function_or_method'>\n",
      "Help on built-in function print in module builtins:\n",
      "\n",
      "print(...)\n",
      "    print(value, ..., sep=' ', end='\\n', file=sys.stdout, flush=False)\n",
      "    \n",
      "    Prints the values to a stream, or to sys.stdout by default.\n",
      "    Optional keyword arguments:\n",
      "    file:  a file-like object (stream); defaults to the current sys.stdout.\n",
      "    sep:   string inserted between values, default a space.\n",
      "    end:   string appended after the last value, default a newline.\n",
      "    flush: whether to forcibly flush the stream.\n",
      "\n"
     ]
    }
   ],
   "source": [
    "print(type(print))\n",
    "help(print)"
   ]
  },
  {
   "cell_type": "code",
   "execution_count": 67,
   "metadata": {
    "scrolled": true
   },
   "outputs": [
    {
     "name": "stdout",
     "output_type": "stream",
     "text": [
      "<class 'tuple'> \n",
      " <class 'int'> \n",
      " <class 'tuple'> \n",
      " <class 'str'> \n",
      " <class 'tuple'>\n"
     ]
    }
   ],
   "source": [
    "tp_0= ()\n",
    "tp_1= (1)\n",
    "tp_2=(1,)\n",
    "tp_3=('a')\n",
    "tp_4=('b',)\n",
    "print(type(tp_0),'\\n'\\\n",
    "     ,type(tp_1),'\\n'\\\n",
    "     ,type(tp_2),'\\n'\\\n",
    "     ,type(tp_3),'\\n'\\\n",
    "     ,type(tp_4))"
   ]
  },
  {
   "cell_type": "code",
   "execution_count": 74,
   "metadata": {},
   "outputs": [
    {
     "data": {
      "text/plain": [
       "{1, (1,), 'a', (), ('b',)}"
      ]
     },
     "execution_count": 74,
     "metadata": {},
     "output_type": "execute_result"
    }
   ],
   "source": [
    "set1 = {tp_0,tp_1,tp_2,tp_3,tp_4,1,1,1}\n",
    "set1"
   ]
  },
  {
   "cell_type": "code",
   "execution_count": 75,
   "metadata": {},
   "outputs": [
    {
     "name": "stdout",
     "output_type": "stream",
     "text": [
      "Help on class set in module builtins:\n",
      "\n",
      "class set(object)\n",
      " |  set() -> new empty set object\n",
      " |  set(iterable) -> new set object\n",
      " |  \n",
      " |  Build an unordered collection of unique elements.\n",
      " |  \n",
      " |  Methods defined here:\n",
      " |  \n",
      " |  __and__(self, value, /)\n",
      " |      Return self&value.\n",
      " |  \n",
      " |  __contains__(...)\n",
      " |      x.__contains__(y) <==> y in x.\n",
      " |  \n",
      " |  __eq__(self, value, /)\n",
      " |      Return self==value.\n",
      " |  \n",
      " |  __ge__(self, value, /)\n",
      " |      Return self>=value.\n",
      " |  \n",
      " |  __getattribute__(self, name, /)\n",
      " |      Return getattr(self, name).\n",
      " |  \n",
      " |  __gt__(self, value, /)\n",
      " |      Return self>value.\n",
      " |  \n",
      " |  __iand__(self, value, /)\n",
      " |      Return self&=value.\n",
      " |  \n",
      " |  __init__(self, /, *args, **kwargs)\n",
      " |      Initialize self.  See help(type(self)) for accurate signature.\n",
      " |  \n",
      " |  __ior__(self, value, /)\n",
      " |      Return self|=value.\n",
      " |  \n",
      " |  __isub__(self, value, /)\n",
      " |      Return self-=value.\n",
      " |  \n",
      " |  __iter__(self, /)\n",
      " |      Implement iter(self).\n",
      " |  \n",
      " |  __ixor__(self, value, /)\n",
      " |      Return self^=value.\n",
      " |  \n",
      " |  __le__(self, value, /)\n",
      " |      Return self<=value.\n",
      " |  \n",
      " |  __len__(self, /)\n",
      " |      Return len(self).\n",
      " |  \n",
      " |  __lt__(self, value, /)\n",
      " |      Return self<value.\n",
      " |  \n",
      " |  __ne__(self, value, /)\n",
      " |      Return self!=value.\n",
      " |  \n",
      " |  __new__(*args, **kwargs) from builtins.type\n",
      " |      Create and return a new object.  See help(type) for accurate signature.\n",
      " |  \n",
      " |  __or__(self, value, /)\n",
      " |      Return self|value.\n",
      " |  \n",
      " |  __rand__(self, value, /)\n",
      " |      Return value&self.\n",
      " |  \n",
      " |  __reduce__(...)\n",
      " |      Return state information for pickling.\n",
      " |  \n",
      " |  __repr__(self, /)\n",
      " |      Return repr(self).\n",
      " |  \n",
      " |  __ror__(self, value, /)\n",
      " |      Return value|self.\n",
      " |  \n",
      " |  __rsub__(self, value, /)\n",
      " |      Return value-self.\n",
      " |  \n",
      " |  __rxor__(self, value, /)\n",
      " |      Return value^self.\n",
      " |  \n",
      " |  __sizeof__(...)\n",
      " |      S.__sizeof__() -> size of S in memory, in bytes\n",
      " |  \n",
      " |  __sub__(self, value, /)\n",
      " |      Return self-value.\n",
      " |  \n",
      " |  __xor__(self, value, /)\n",
      " |      Return self^value.\n",
      " |  \n",
      " |  add(...)\n",
      " |      Add an element to a set.\n",
      " |      \n",
      " |      This has no effect if the element is already present.\n",
      " |  \n",
      " |  clear(...)\n",
      " |      Remove all elements from this set.\n",
      " |  \n",
      " |  copy(...)\n",
      " |      Return a shallow copy of a set.\n",
      " |  \n",
      " |  difference(...)\n",
      " |      Return the difference of two or more sets as a new set.\n",
      " |      \n",
      " |      (i.e. all elements that are in this set but not the others.)\n",
      " |  \n",
      " |  difference_update(...)\n",
      " |      Remove all elements of another set from this set.\n",
      " |  \n",
      " |  discard(...)\n",
      " |      Remove an element from a set if it is a member.\n",
      " |      \n",
      " |      If the element is not a member, do nothing.\n",
      " |  \n",
      " |  intersection(...)\n",
      " |      Return the intersection of two sets as a new set.\n",
      " |      \n",
      " |      (i.e. all elements that are in both sets.)\n",
      " |  \n",
      " |  intersection_update(...)\n",
      " |      Update a set with the intersection of itself and another.\n",
      " |  \n",
      " |  isdisjoint(...)\n",
      " |      Return True if two sets have a null intersection.\n",
      " |  \n",
      " |  issubset(...)\n",
      " |      Report whether another set contains this set.\n",
      " |  \n",
      " |  issuperset(...)\n",
      " |      Report whether this set contains another set.\n",
      " |  \n",
      " |  pop(...)\n",
      " |      Remove and return an arbitrary set element.\n",
      " |      Raises KeyError if the set is empty.\n",
      " |  \n",
      " |  remove(...)\n",
      " |      Remove an element from a set; it must be a member.\n",
      " |      \n",
      " |      If the element is not a member, raise a KeyError.\n",
      " |  \n",
      " |  symmetric_difference(...)\n",
      " |      Return the symmetric difference of two sets as a new set.\n",
      " |      \n",
      " |      (i.e. all elements that are in exactly one of the sets.)\n",
      " |  \n",
      " |  symmetric_difference_update(...)\n",
      " |      Update a set with the symmetric difference of itself and another.\n",
      " |  \n",
      " |  union(...)\n",
      " |      Return the union of sets as a new set.\n",
      " |      \n",
      " |      (i.e. all elements that are in either set.)\n",
      " |  \n",
      " |  update(...)\n",
      " |      Update a set with the union of itself and others.\n",
      " |  \n",
      " |  ----------------------------------------------------------------------\n",
      " |  Data and other attributes defined here:\n",
      " |  \n",
      " |  __hash__ = None\n",
      "\n"
     ]
    }
   ],
   "source": [
    "help(set)"
   ]
  },
  {
   "cell_type": "code",
   "execution_count": 77,
   "metadata": {},
   "outputs": [
    {
     "data": {
      "text/plain": [
       "sys.version_info(major=3, minor=6, micro=1, releaselevel='final', serial=0)"
      ]
     },
     "execution_count": 77,
     "metadata": {},
     "output_type": "execute_result"
    }
   ],
   "source": [
    "import sys\n",
    "sys.version_info\n"
   ]
  },
  {
   "cell_type": "code",
   "execution_count": 78,
   "metadata": {
    "collapsed": true
   },
   "outputs": [],
   "source": [
    "import os"
   ]
  },
  {
   "cell_type": "code",
   "execution_count": 82,
   "metadata": {},
   "outputs": [
    {
     "data": {
      "text/plain": [
       "['python_data_science_interview_questions',\n",
       " 'EQUATIONS.FINAL.14.OK.pdf',\n",
       " '.ipynb_checkpoints',\n",
       " 'Python_Basics.ipynb']"
      ]
     },
     "execution_count": 82,
     "metadata": {},
     "output_type": "execute_result"
    }
   ],
   "source": [
    "os.listdir()"
   ]
  },
  {
   "cell_type": "code",
   "execution_count": 1,
   "metadata": {},
   "outputs": [
    {
     "ename": "NameError",
     "evalue": "name 'os' is not defined",
     "output_type": "error",
     "traceback": [
      "\u001b[0;31m---------------------------------------------------------------------------\u001b[0m",
      "\u001b[0;31mNameError\u001b[0m                                 Traceback (most recent call last)",
      "\u001b[0;32m<ipython-input-1-e34748f24345>\u001b[0m in \u001b[0;36m<module>\u001b[0;34m()\u001b[0m\n\u001b[0;32m----> 1\u001b[0;31m \u001b[0mos\u001b[0m\u001b[0;34m.\u001b[0m\u001b[0mpath\u001b[0m\u001b[0;34m\u001b[0m\u001b[0m\n\u001b[0m",
      "\u001b[0;31mNameError\u001b[0m: name 'os' is not defined"
     ]
    }
   ],
   "source": [
    "os.path"
   ]
  },
  {
   "cell_type": "code",
   "execution_count": 27,
   "metadata": {
    "collapsed": true
   },
   "outputs": [],
   "source": [
    "import pandas as pd\n",
    "import numpy as np\n",
    "%matplotlib inline"
   ]
  },
  {
   "cell_type": "code",
   "execution_count": 4,
   "metadata": {},
   "outputs": [
    {
     "name": "stdout",
     "output_type": "stream",
     "text": [
      "['grayscale', 'seaborn-dark-palette', 'fivethirtyeight', 'dark_background', 'bmh', 'seaborn-pastel', 'ggplot', 'Solarize_Light2', 'seaborn-whitegrid', 'classic', 'seaborn-paper', 'seaborn', 'seaborn-dark', 'seaborn-notebook', 'fast', 'seaborn-poster', 'seaborn-muted', 'seaborn-bright', 'seaborn-ticks', 'seaborn-white', 'seaborn-deep', 'seaborn-darkgrid', '_classic_test', 'seaborn-talk', 'seaborn-colorblind']\n"
     ]
    }
   ],
   "source": [
    "import matplotlib.pyplot as plt\n",
    "print(plt.style.available)\n",
    "plt.style.use('ggplot')"
   ]
  },
  {
   "cell_type": "code",
   "execution_count": 15,
   "metadata": {},
   "outputs": [
    {
     "data": {
      "text/plain": [
       "(999, 3)"
      ]
     },
     "execution_count": 15,
     "metadata": {},
     "output_type": "execute_result"
    }
   ],
   "source": [
    "a = np.random.normal(0,1,999)\n",
    "b = np.random.normal(1,2,999)\n",
    "c = np.random.normal(2,3,999)\n",
    "df = pd.DataFrame([a,b,c]).T\n",
    "df.columns =['A', 'B', 'C']\n",
    "df.shape"
   ]
  },
  {
   "cell_type": "code",
   "execution_count": 16,
   "metadata": {},
   "outputs": [
    {
     "data": {
      "text/html": [
       "<div>\n",
       "<style>\n",
       "    .dataframe thead tr:only-child th {\n",
       "        text-align: right;\n",
       "    }\n",
       "\n",
       "    .dataframe thead th {\n",
       "        text-align: left;\n",
       "    }\n",
       "\n",
       "    .dataframe tbody tr th {\n",
       "        vertical-align: top;\n",
       "    }\n",
       "</style>\n",
       "<table border=\"1\" class=\"dataframe\">\n",
       "  <thead>\n",
       "    <tr style=\"text-align: right;\">\n",
       "      <th></th>\n",
       "      <th>A</th>\n",
       "      <th>B</th>\n",
       "      <th>C</th>\n",
       "    </tr>\n",
       "  </thead>\n",
       "  <tbody>\n",
       "    <tr>\n",
       "      <th>0</th>\n",
       "      <td>-0.386918</td>\n",
       "      <td>4.800481</td>\n",
       "      <td>4.838881</td>\n",
       "    </tr>\n",
       "    <tr>\n",
       "      <th>1</th>\n",
       "      <td>1.126958</td>\n",
       "      <td>0.221401</td>\n",
       "      <td>7.972372</td>\n",
       "    </tr>\n",
       "    <tr>\n",
       "      <th>2</th>\n",
       "      <td>0.264362</td>\n",
       "      <td>3.387456</td>\n",
       "      <td>1.632529</td>\n",
       "    </tr>\n",
       "    <tr>\n",
       "      <th>3</th>\n",
       "      <td>1.267761</td>\n",
       "      <td>3.291152</td>\n",
       "      <td>7.154246</td>\n",
       "    </tr>\n",
       "    <tr>\n",
       "      <th>4</th>\n",
       "      <td>-0.314286</td>\n",
       "      <td>1.041589</td>\n",
       "      <td>-3.594646</td>\n",
       "    </tr>\n",
       "  </tbody>\n",
       "</table>\n",
       "</div>"
      ],
      "text/plain": [
       "          A         B         C\n",
       "0 -0.386918  4.800481  4.838881\n",
       "1  1.126958  0.221401  7.972372\n",
       "2  0.264362  3.387456  1.632529\n",
       "3  1.267761  3.291152  7.154246\n",
       "4 -0.314286  1.041589 -3.594646"
      ]
     },
     "execution_count": 16,
     "metadata": {},
     "output_type": "execute_result"
    }
   ],
   "source": [
    "df.head()"
   ]
  },
  {
   "cell_type": "code",
   "execution_count": 22,
   "metadata": {},
   "outputs": [
    {
     "data": {
      "text/html": [
       "<div>\n",
       "<style>\n",
       "    .dataframe thead tr:only-child th {\n",
       "        text-align: right;\n",
       "    }\n",
       "\n",
       "    .dataframe thead th {\n",
       "        text-align: left;\n",
       "    }\n",
       "\n",
       "    .dataframe tbody tr th {\n",
       "        vertical-align: top;\n",
       "    }\n",
       "</style>\n",
       "<table border=\"1\" class=\"dataframe\">\n",
       "  <thead>\n",
       "    <tr style=\"text-align: right;\">\n",
       "      <th></th>\n",
       "      <th>A</th>\n",
       "      <th>B</th>\n",
       "      <th>C</th>\n",
       "    </tr>\n",
       "  </thead>\n",
       "  <tbody>\n",
       "    <tr>\n",
       "      <th>0</th>\n",
       "      <td>-0.386918</td>\n",
       "      <td>4.800481</td>\n",
       "      <td>4.838881</td>\n",
       "    </tr>\n",
       "    <tr>\n",
       "      <th>1</th>\n",
       "      <td>0.740040</td>\n",
       "      <td>5.021882</td>\n",
       "      <td>12.811253</td>\n",
       "    </tr>\n",
       "    <tr>\n",
       "      <th>2</th>\n",
       "      <td>1.004402</td>\n",
       "      <td>8.409338</td>\n",
       "      <td>14.443782</td>\n",
       "    </tr>\n",
       "    <tr>\n",
       "      <th>3</th>\n",
       "      <td>2.272163</td>\n",
       "      <td>11.700490</td>\n",
       "      <td>21.598028</td>\n",
       "    </tr>\n",
       "    <tr>\n",
       "      <th>4</th>\n",
       "      <td>1.957877</td>\n",
       "      <td>12.742079</td>\n",
       "      <td>18.003382</td>\n",
       "    </tr>\n",
       "  </tbody>\n",
       "</table>\n",
       "</div>"
      ],
      "text/plain": [
       "          A          B          C\n",
       "0 -0.386918   4.800481   4.838881\n",
       "1  0.740040   5.021882  12.811253\n",
       "2  1.004402   8.409338  14.443782\n",
       "3  2.272163  11.700490  21.598028\n",
       "4  1.957877  12.742079  18.003382"
      ]
     },
     "execution_count": 22,
     "metadata": {},
     "output_type": "execute_result"
    }
   ],
   "source": [
    "df1 = df.cumsum()\n",
    "df1.head()\n",
    "\n"
   ]
  },
  {
   "cell_type": "code",
   "execution_count": 31,
   "metadata": {},
   "outputs": [
    {
     "data": {
      "image/png": "[encoded data removed]",
      "text/plain": [
       "<matplotlib.figure.Figure at 0x7f00dc341f28>"
      ]
     },
     "metadata": {},
     "output_type": "display_data"
    }
   ],
   "source": [
    "ax = df1.plot()\n",
    "# from here down – standard plot output\n",
    "ax.set_title('Title')\n",
    "ax.set_xlabel('X Axis')\n",
    "ax.set_ylabel('Y Axis')\n",
    "fig = ax.figure\n",
    "fig.set_size_inches(8, 3)\n",
    "fig.tight_layout(pad=1)\n",
    "fig.savefig('filename.png', dpi=125)\n",
    "# plt.close()"
   ]
  },
  {
   "cell_type": "code",
   "execution_count": 32,
   "metadata": {},
   "outputs": [
    {
     "data": {
      "image/png": "[encoded data removed]",
      "text/plain": [
       "<matplotlib.figure.Figure at 0x7f00d848f278>"
      ]
     },
     "metadata": {},
     "output_type": "display_data"
    }
   ],
   "source": [
    "ax = df.plot.box(vert=False)\n",
    "# followed by the standard plot code as above"
   ]
  },
  {
   "cell_type": "code",
   "execution_count": 56,
   "metadata": {},
   "outputs": [
    {
     "data": {
      "image/png": "[encoded data removed]",
      "text/plain": [
       "<matplotlib.figure.Figure at 0x7f00d88d0630>"
      ]
     },
     "metadata": {},
     "output_type": "display_data"
    }
   ],
   "source": [
    "ax = df.plot.box(by='D')\n"
   ]
  },
  {
   "cell_type": "code",
   "execution_count": 57,
   "metadata": {},
   "outputs": [
    {
     "data": {
      "image/png": "[encoded data removed]",
      "text/plain": [
       "<matplotlib.figure.Figure at 0x7f00d89ee7f0>"
      ]
     },
     "metadata": {},
     "output_type": "display_data"
    }
   ],
   "source": [
    "ax = df.plot.box()"
   ]
  },
  {
   "cell_type": "code",
   "execution_count": 58,
   "metadata": {},
   "outputs": [
    {
     "data": {
      "text/html": [
       "<div>\n",
       "<style>\n",
       "    .dataframe thead tr:only-child th {\n",
       "        text-align: right;\n",
       "    }\n",
       "\n",
       "    .dataframe thead th {\n",
       "        text-align: left;\n",
       "    }\n",
       "\n",
       "    .dataframe tbody tr th {\n",
       "        vertical-align: top;\n",
       "    }\n",
       "</style>\n",
       "<table border=\"1\" class=\"dataframe\">\n",
       "  <thead>\n",
       "    <tr style=\"text-align: right;\">\n",
       "      <th></th>\n",
       "      <th>A</th>\n",
       "      <th>B</th>\n",
       "      <th>C</th>\n",
       "      <th>D</th>\n",
       "    </tr>\n",
       "  </thead>\n",
       "  <tbody>\n",
       "    <tr>\n",
       "      <th>0</th>\n",
       "      <td>-0.386918</td>\n",
       "      <td>4.800481</td>\n",
       "      <td>4.838881</td>\n",
       "      <td>medium</td>\n",
       "    </tr>\n",
       "    <tr>\n",
       "      <th>1</th>\n",
       "      <td>1.126958</td>\n",
       "      <td>0.221401</td>\n",
       "      <td>7.972372</td>\n",
       "      <td>bad</td>\n",
       "    </tr>\n",
       "    <tr>\n",
       "      <th>2</th>\n",
       "      <td>0.264362</td>\n",
       "      <td>3.387456</td>\n",
       "      <td>1.632529</td>\n",
       "      <td>medium</td>\n",
       "    </tr>\n",
       "    <tr>\n",
       "      <th>3</th>\n",
       "      <td>1.267761</td>\n",
       "      <td>3.291152</td>\n",
       "      <td>7.154246</td>\n",
       "      <td>bad</td>\n",
       "    </tr>\n",
       "    <tr>\n",
       "      <th>4</th>\n",
       "      <td>-0.314286</td>\n",
       "      <td>1.041589</td>\n",
       "      <td>-3.594646</td>\n",
       "      <td>medium</td>\n",
       "    </tr>\n",
       "  </tbody>\n",
       "</table>\n",
       "</div>"
      ],
      "text/plain": [
       "          A         B         C       D\n",
       "0 -0.386918  4.800481  4.838881  medium\n",
       "1  1.126958  0.221401  7.972372     bad\n",
       "2  0.264362  3.387456  1.632529  medium\n",
       "3  1.267761  3.291152  7.154246     bad\n",
       "4 -0.314286  1.041589 -3.594646  medium"
      ]
     },
     "execution_count": 58,
     "metadata": {},
     "output_type": "execute_result"
    }
   ],
   "source": [
    "df['D']=pd.cut(df['A'], 3,\n",
    "           labels=[\"good\",\"medium\",\"bad\"])\n",
    "df.head()"
   ]
  },
  {
   "cell_type": "code",
   "execution_count": 47,
   "metadata": {},
   "outputs": [
    {
     "data": {
      "image/png": "[encoded data removed]",
      "text/plain": [
       "<matplotlib.figure.Figure at 0x7f00d8a01128>"
      ]
     },
     "metadata": {},
     "output_type": "display_data"
    }
   ],
   "source": [
    "ax = df['A'].plot.hist(bins=20)\n",
    "# followed by the standard plot code as above"
   ]
  },
  {
   "cell_type": "markdown",
   "metadata": {},
   "source": [
    "Multiple histograms (overlapping or stacked)"
   ]
  },
  {
   "cell_type": "code",
   "execution_count": 46,
   "metadata": {},
   "outputs": [
    {
     "data": {
      "image/png": "[encoded data removed]",
      "text/plain": [
       "<matplotlib.figure.Figure at 0x7f00d8089e80>"
      ]
     },
     "metadata": {},
     "output_type": "display_data"
    },
    {
     "data": {
      "image/png": "[encoded data removed]",
      "text/plain": [
       "<matplotlib.figure.Figure at 0x7f00d8697160>"
      ]
     },
     "metadata": {},
     "output_type": "display_data"
    }
   ],
   "source": [
    "ax = df.plot.hist(bins=25, alpha=0.5) # or\n",
    "ax = df.plot.hist(bins=25, stacked=True)\n",
    "# followed by the standard plot code as above"
   ]
  },
  {
   "cell_type": "markdown",
   "metadata": {},
   "source": [
    "Bar plots"
   ]
  },
  {
   "cell_type": "code",
   "execution_count": 59,
   "metadata": {},
   "outputs": [
    {
     "ename": "TypeError",
     "evalue": "'<' not supported between instances of 'float' and 'str'",
     "output_type": "error",
     "traceback": [
      "\u001b[0;31m---------------------------------------------------------------------------\u001b[0m",
      "\u001b[0;31mTypeError\u001b[0m                                 Traceback (most recent call last)",
      "\u001b[0;32m<ipython-input-59-87e45672afc9>\u001b[0m in \u001b[0;36m<module>\u001b[0;34m()\u001b[0m\n\u001b[1;32m      2\u001b[0m \u001b[0mbinned\u001b[0m \u001b[0;34m=\u001b[0m \u001b[0mpd\u001b[0m\u001b[0;34m.\u001b[0m\u001b[0mDataFrame\u001b[0m\u001b[0;34m(\u001b[0m\u001b[0;34m)\u001b[0m\u001b[0;34m\u001b[0m\u001b[0m\n\u001b[1;32m      3\u001b[0m \u001b[0;32mfor\u001b[0m \u001b[0mx\u001b[0m \u001b[0;32min\u001b[0m \u001b[0mdf\u001b[0m\u001b[0;34m.\u001b[0m\u001b[0mcolumns\u001b[0m\u001b[0;34m:\u001b[0m\u001b[0;34m\u001b[0m\u001b[0m\n\u001b[0;32m----> 4\u001b[0;31m     \u001b[0my\u001b[0m\u001b[0;34m=\u001b[0m\u001b[0mpd\u001b[0m\u001b[0;34m.\u001b[0m\u001b[0mcut\u001b[0m\u001b[0;34m(\u001b[0m\u001b[0mdf\u001b[0m\u001b[0;34m[\u001b[0m\u001b[0mx\u001b[0m\u001b[0;34m]\u001b[0m\u001b[0;34m,\u001b[0m\u001b[0mbins\u001b[0m\u001b[0;34m,\u001b[0m\u001b[0mlabels\u001b[0m\u001b[0;34m=\u001b[0m\u001b[0mbins\u001b[0m\u001b[0;34m[\u001b[0m\u001b[0;34m:\u001b[0m\u001b[0;34m-\u001b[0m\u001b[0;36m1\u001b[0m\u001b[0;34m]\u001b[0m\u001b[0;34m)\u001b[0m\u001b[0;34m\u001b[0m\u001b[0m\n\u001b[0m\u001b[1;32m      5\u001b[0m     \u001b[0my\u001b[0m\u001b[0;34m=\u001b[0m\u001b[0my\u001b[0m\u001b[0;34m.\u001b[0m\u001b[0mvalue_counts\u001b[0m\u001b[0;34m(\u001b[0m\u001b[0;34m)\u001b[0m\u001b[0;34m.\u001b[0m\u001b[0msort_index\u001b[0m\u001b[0;34m(\u001b[0m\u001b[0;34m)\u001b[0m\u001b[0;34m\u001b[0m\u001b[0m\n\u001b[1;32m      6\u001b[0m     \u001b[0mbinned\u001b[0m \u001b[0;34m=\u001b[0m \u001b[0mpd\u001b[0m\u001b[0;34m.\u001b[0m\u001b[0mconcat\u001b[0m\u001b[0;34m(\u001b[0m\u001b[0;34m[\u001b[0m\u001b[0mbinned\u001b[0m\u001b[0;34m,\u001b[0m\u001b[0my\u001b[0m\u001b[0;34m]\u001b[0m\u001b[0;34m,\u001b[0m\u001b[0maxis\u001b[0m\u001b[0;34m=\u001b[0m\u001b[0;36m1\u001b[0m\u001b[0;34m)\u001b[0m\u001b[0;34m\u001b[0m\u001b[0m\n",
      "\u001b[0;32m/home/dell/anaconda3/lib/python3.6/site-packages/pandas/core/reshape/tile.py\u001b[0m in \u001b[0;36mcut\u001b[0;34m(x, bins, right, labels, retbins, precision, include_lowest)\u001b[0m\n\u001b[1;32m    134\u001b[0m                               \u001b[0mprecision\u001b[0m\u001b[0;34m=\u001b[0m\u001b[0mprecision\u001b[0m\u001b[0;34m,\u001b[0m\u001b[0;34m\u001b[0m\u001b[0m\n\u001b[1;32m    135\u001b[0m                               \u001b[0minclude_lowest\u001b[0m\u001b[0;34m=\u001b[0m\u001b[0minclude_lowest\u001b[0m\u001b[0;34m,\u001b[0m\u001b[0;34m\u001b[0m\u001b[0m\n\u001b[0;32m--> 136\u001b[0;31m                               dtype=dtype)\n\u001b[0m\u001b[1;32m    137\u001b[0m \u001b[0;34m\u001b[0m\u001b[0m\n\u001b[1;32m    138\u001b[0m     return _postprocess_for_cut(fac, bins, retbins, x_is_series,\n",
      "\u001b[0;32m/home/dell/anaconda3/lib/python3.6/site-packages/pandas/core/reshape/tile.py\u001b[0m in \u001b[0;36m_bins_to_cuts\u001b[0;34m(x, bins, right, labels, precision, include_lowest, dtype, duplicates)\u001b[0m\n\u001b[1;32m    235\u001b[0m \u001b[0;34m\u001b[0m\u001b[0m\n\u001b[1;32m    236\u001b[0m     \u001b[0mside\u001b[0m \u001b[0;34m=\u001b[0m \u001b[0;34m'left'\u001b[0m \u001b[0;32mif\u001b[0m \u001b[0mright\u001b[0m \u001b[0;32melse\u001b[0m \u001b[0;34m'right'\u001b[0m\u001b[0;34m\u001b[0m\u001b[0m\n\u001b[0;32m--> 237\u001b[0;31m     \u001b[0mids\u001b[0m \u001b[0;34m=\u001b[0m \u001b[0m_ensure_int64\u001b[0m\u001b[0;34m(\u001b[0m\u001b[0mbins\u001b[0m\u001b[0;34m.\u001b[0m\u001b[0msearchsorted\u001b[0m\u001b[0;34m(\u001b[0m\u001b[0mx\u001b[0m\u001b[0;34m,\u001b[0m \u001b[0mside\u001b[0m\u001b[0;34m=\u001b[0m\u001b[0mside\u001b[0m\u001b[0;34m)\u001b[0m\u001b[0;34m)\u001b[0m\u001b[0;34m\u001b[0m\u001b[0m\n\u001b[0m\u001b[1;32m    238\u001b[0m \u001b[0;34m\u001b[0m\u001b[0m\n\u001b[1;32m    239\u001b[0m     \u001b[0;32mif\u001b[0m \u001b[0minclude_lowest\u001b[0m\u001b[0;34m:\u001b[0m\u001b[0;34m\u001b[0m\u001b[0m\n",
      "\u001b[0;31mTypeError\u001b[0m: '<' not supported between instances of 'float' and 'str'"
     ]
    }
   ],
   "source": [
    "bins = np.linspace(-10,15,26)\n",
    "binned = pd.DataFrame()\n",
    "for x in df.columns:\n",
    "    y=pd.cut(df[x],bins,labels=bins[:-1])\n",
    "    y=y.value_counts().sort_index()\n",
    "    binned = pd.concat([binned,y],axis=1)\n",
    "binned.index = binned.index.astype(float)\n",
    "binned.index += (np.diff(bins) / 2.0)\n",
    "ax = binned.plot.bar(stacked=False,width=0.8) # for bar width\n",
    "# followed by the standard plot code as above"
   ]
  },
  {
   "cell_type": "code",
   "execution_count": 60,
   "metadata": {},
   "outputs": [
    {
     "data": {
      "image/png": "[encoded data removed]",
      "text/plain": [
       "<matplotlib.figure.Figure at 0x7f00dc74a860>"
      ]
     },
     "metadata": {},
     "output_type": "display_data"
    }
   ],
   "source": [
    "ax = binned['A'][(binned.index >= -4) &\n",
    "(binned.index <= 4)].plot.barh()\n",
    "# followed by the standard plot code as above"
   ]
  },
  {
   "cell_type": "code",
   "execution_count": 62,
   "metadata": {},
   "outputs": [
    {
     "data": {
      "image/png": "[encoded data removed]",
      "text/plain": [
       "<matplotlib.figure.Figure at 0x7f00cd1c3048>"
      ]
     },
     "metadata": {},
     "output_type": "display_data"
    }
   ],
   "source": [
    "ax = df.plot.kde()\n",
    "# followed by the standard plot code as above"
   ]
  },
  {
   "cell_type": "code",
   "execution_count": 64,
   "metadata": {},
   "outputs": [
    {
     "data": {
      "image/png": "[encoded data removed]",
      "text/plain": [
       "<matplotlib.figure.Figure at 0x7f00d88c1898>"
      ]
     },
     "metadata": {},
     "output_type": "display_data"
    }
   ],
   "source": [
    "ax = df.plot.scatter(x='A', y='C')\n",
    "# followed by the standard plot code"
   ]
  },
  {
   "cell_type": "code",
   "execution_count": 66,
   "metadata": {},
   "outputs": [
    {
     "data": {
      "text/plain": [
       "(A    0.031701\n",
       " B    0.991331\n",
       " C    1.891979\n",
       " dtype: float64,             A        B        C       D\n",
       " 0   -0.386918  4.80048  4.83888  medium\n",
       " 1     1.12696  4.80048  7.97237  medium\n",
       " 2     1.12696  4.80048  7.97237  medium\n",
       " 3     1.26776  4.80048  7.97237  medium\n",
       " 4     1.26776  4.80048  7.97237  medium\n",
       " 5     1.26776  4.80048  7.97237  medium\n",
       " 6     1.26776  4.80048  7.97237  medium\n",
       " 7     1.26776  4.80048  7.97237  medium\n",
       " 8     1.26776  4.80048  7.97237  medium\n",
       " 9     1.26776  4.80048  7.97237  medium\n",
       " 10    1.26776  4.80048  7.97237  medium\n",
       " 11    1.68885  4.80048  7.97237  medium\n",
       " 12    1.68885  4.80048  7.97237  medium\n",
       " 13    1.68885  4.80048  7.97237  medium\n",
       " 14    1.68885  4.80048  7.97237  medium\n",
       " 15    1.68885  4.80048  7.97237  medium\n",
       " 16    1.68885  4.80048  7.97237  medium\n",
       " 17    2.04618  4.80048  7.97237  medium\n",
       " 18    2.04618  4.80048  7.97237  medium\n",
       " 19    2.04618  4.80048  7.97237  medium\n",
       " 20    2.04618  6.25757  7.97237  medium\n",
       " 21    2.04618  6.25757  7.97237  medium\n",
       " 22    2.04618  6.25757  7.97237  medium\n",
       " 23    2.04618  6.25757  7.97237  medium\n",
       " 24    2.04618  6.25757  7.97237  medium\n",
       " 25    2.04618  6.25757  7.97237  medium\n",
       " 26    2.04618  6.25757  7.97237  medium\n",
       " 27    2.04618  6.25757  7.97237  medium\n",
       " 28    2.04618  6.25757  7.97237  medium\n",
       " 29    2.04618  6.25757  7.97237  medium\n",
       " ..        ...      ...      ...     ...\n",
       " 969    2.9794   7.1741   12.588  medium\n",
       " 970    2.9794   7.1741   12.588  medium\n",
       " 971    2.9794   7.1741   12.588  medium\n",
       " 972    2.9794   7.1741   12.588  medium\n",
       " 973    2.9794   7.1741   12.588  medium\n",
       " 974    2.9794   7.1741   12.588  medium\n",
       " 975    2.9794   7.1741   12.588  medium\n",
       " 976    2.9794   7.1741   12.588  medium\n",
       " 977    2.9794   7.1741   12.588  medium\n",
       " 978    2.9794   7.1741   12.588  medium\n",
       " 979    2.9794   7.1741   12.588  medium\n",
       " 980    2.9794   7.1741   12.588  medium\n",
       " 981    2.9794   7.1741   12.588  medium\n",
       " 982    2.9794   7.1741   12.588  medium\n",
       " 983    2.9794   7.1741   12.588  medium\n",
       " 984    2.9794   7.1741   12.588  medium\n",
       " 985    2.9794   7.1741   12.588  medium\n",
       " 986    2.9794   7.1741   12.588  medium\n",
       " 987    2.9794   7.1741   12.588  medium\n",
       " 988    2.9794   7.1741   12.588  medium\n",
       " 989    2.9794   7.1741   12.588  medium\n",
       " 990    2.9794   7.1741   12.588  medium\n",
       " 991    2.9794   7.1741   12.588  medium\n",
       " 992    2.9794   7.1741   12.588  medium\n",
       " 993    2.9794   7.1741   12.588  medium\n",
       " 994    2.9794   7.1741   12.588  medium\n",
       " 995    2.9794   7.1741   12.588  medium\n",
       " 996    2.9794   7.1741   12.588  medium\n",
       " 997    2.9794   7.1741   12.588  medium\n",
       " 998    2.9794   7.1741   12.588  medium\n",
       " \n",
       " [999 rows x 4 columns])"
      ]
     },
     "execution_count": 66,
     "metadata": {},
     "output_type": "execute_result"
    }
   ],
   "source": [
    "df.mean(),df.cummax()"
   ]
  },
  {
   "cell_type": "code",
   "execution_count": 85,
   "metadata": {
    "collapsed": true
   },
   "outputs": [],
   "source": [
    "# Let's start with data in long format\n",
    "# from StringIO import StringIO # python2.7\n",
    "from io import StringIO\n",
    "# python 3\n",
    "data = \"\"\"Date,Pollster,State,Party,Est\n",
    "13/03/2014, Newspoll, NSW,red,25\n",
    "13/03/2014, Newspoll, NSW,blue,28\n",
    "13/03/2014, Newspoll, Vic,red,24\n",
    "13/03/2014, Newspoll, Vic,blue,23\n",
    "13/03/2014, Galaxy,NSW,red,23\n",
    "13/03/2014, Galaxy,NSW,blue, 24\n",
    "13/03/2014, Galaxy,Vic,red,26\n",
    "13/03/2014, Galaxy,Vic,blue, 25\n",
    "13/03/2014, Galaxy,Qld,red,21\n",
    "13/03/2014, Galaxy,Qld,blue, 27\"\"\"\n",
    "df = pd.read_csv(StringIO(data),\n",
    "header=0, skipinitialspace=True)\n"
   ]
  },
  {
   "cell_type": "code",
   "execution_count": 99,
   "metadata": {},
   "outputs": [
    {
     "data": {
      "text/html": [
       "<div>\n",
       "<style>\n",
       "    .dataframe thead tr:only-child th {\n",
       "        text-align: right;\n",
       "    }\n",
       "\n",
       "    .dataframe thead th {\n",
       "        text-align: left;\n",
       "    }\n",
       "\n",
       "    .dataframe tbody tr th {\n",
       "        vertical-align: top;\n",
       "    }\n",
       "</style>\n",
       "<table border=\"1\" class=\"dataframe\">\n",
       "  <thead>\n",
       "    <tr>\n",
       "      <th></th>\n",
       "      <th></th>\n",
       "      <th></th>\n",
       "      <th colspan=\"2\" halign=\"left\">Est</th>\n",
       "      <th colspan=\"2\" halign=\"left\">new</th>\n",
       "    </tr>\n",
       "    <tr>\n",
       "      <th></th>\n",
       "      <th></th>\n",
       "      <th>Party</th>\n",
       "      <th>blue</th>\n",
       "      <th>red</th>\n",
       "      <th>blue</th>\n",
       "      <th>red</th>\n",
       "    </tr>\n",
       "    <tr>\n",
       "      <th>Date</th>\n",
       "      <th>Pollster</th>\n",
       "      <th>State</th>\n",
       "      <th></th>\n",
       "      <th></th>\n",
       "      <th></th>\n",
       "      <th></th>\n",
       "    </tr>\n",
       "  </thead>\n",
       "  <tbody>\n",
       "    <tr>\n",
       "      <th rowspan=\"5\" valign=\"top\">13/03/2014</th>\n",
       "      <th rowspan=\"3\" valign=\"top\">Galaxy</th>\n",
       "      <th>NSW</th>\n",
       "      <td>24</td>\n",
       "      <td>23</td>\n",
       "      <td>134</td>\n",
       "      <td>155</td>\n",
       "    </tr>\n",
       "    <tr>\n",
       "      <th>Qld</th>\n",
       "      <td>27</td>\n",
       "      <td>21</td>\n",
       "      <td>50</td>\n",
       "      <td>71</td>\n",
       "    </tr>\n",
       "    <tr>\n",
       "      <th>Vic</th>\n",
       "      <td>25</td>\n",
       "      <td>26</td>\n",
       "      <td>92</td>\n",
       "      <td>113</td>\n",
       "    </tr>\n",
       "    <tr>\n",
       "      <th rowspan=\"2\" valign=\"top\">Newspoll</th>\n",
       "      <th>NSW</th>\n",
       "      <td>28</td>\n",
       "      <td>25</td>\n",
       "      <td>218</td>\n",
       "      <td>239</td>\n",
       "    </tr>\n",
       "    <tr>\n",
       "      <th>Vic</th>\n",
       "      <td>23</td>\n",
       "      <td>24</td>\n",
       "      <td>176</td>\n",
       "      <td>197</td>\n",
       "    </tr>\n",
       "  </tbody>\n",
       "</table>\n",
       "</div>"
      ],
      "text/plain": [
       "                           Est      new     \n",
       "Party                     blue red blue  red\n",
       "Date       Pollster State                   \n",
       "13/03/2014 Galaxy   NSW     24  23  134  155\n",
       "                    Qld     27  21   50   71\n",
       "                    Vic     25  26   92  113\n",
       "           Newspoll NSW     28  25  218  239\n",
       "                    Vic     23  24  176  197"
      ]
     },
     "execution_count": 99,
     "metadata": {},
     "output_type": "execute_result"
    }
   ],
   "source": [
    "# pivot to wide format on 'Party' column\n",
    "# 1st: set up a MultiIndex for other cols\n",
    "df['new']=pd.Series((range(239,23,-21)))\n",
    "df1 = df.set_index(['Date', 'Pollster',\n",
    "'State'])\n",
    "# 2nd: do the pivot\n",
    "wide1 = df1.pivot(columns='Party')\n",
    "wide1"
   ]
  },
  {
   "cell_type": "code",
   "execution_count": 100,
   "metadata": {
    "collapsed": true
   },
   "outputs": [],
   "source": [
    "# unstack to wide format on State / Party\n",
    "# 1st: MultiIndex all but the Values col\n",
    "df2 = df.set_index(['Date', 'Pollster',\n",
    "'State', 'Party'])\n",
    "# 2nd: unstack a column to go wide on it\n",
    "wide2 = df2.unstack('State')\n",
    "wide3 = df2.unstack() # pop last index"
   ]
  },
  {
   "cell_type": "code",
   "execution_count": 101,
   "metadata": {},
   "outputs": [
    {
     "data": {
      "text/html": [
       "<div>\n",
       "<style>\n",
       "    .dataframe thead tr:only-child th {\n",
       "        text-align: right;\n",
       "    }\n",
       "\n",
       "    .dataframe thead th {\n",
       "        text-align: left;\n",
       "    }\n",
       "\n",
       "    .dataframe tbody tr th {\n",
       "        vertical-align: top;\n",
       "    }\n",
       "</style>\n",
       "<table border=\"1\" class=\"dataframe\">\n",
       "  <thead>\n",
       "    <tr>\n",
       "      <th></th>\n",
       "      <th></th>\n",
       "      <th></th>\n",
       "      <th colspan=\"3\" halign=\"left\">Est</th>\n",
       "      <th colspan=\"3\" halign=\"left\">new</th>\n",
       "    </tr>\n",
       "    <tr>\n",
       "      <th></th>\n",
       "      <th></th>\n",
       "      <th>State</th>\n",
       "      <th>NSW</th>\n",
       "      <th>Qld</th>\n",
       "      <th>Vic</th>\n",
       "      <th>NSW</th>\n",
       "      <th>Qld</th>\n",
       "      <th>Vic</th>\n",
       "    </tr>\n",
       "    <tr>\n",
       "      <th>Date</th>\n",
       "      <th>Pollster</th>\n",
       "      <th>Party</th>\n",
       "      <th></th>\n",
       "      <th></th>\n",
       "      <th></th>\n",
       "      <th></th>\n",
       "      <th></th>\n",
       "      <th></th>\n",
       "    </tr>\n",
       "  </thead>\n",
       "  <tbody>\n",
       "    <tr>\n",
       "      <th rowspan=\"4\" valign=\"top\">13/03/2014</th>\n",
       "      <th rowspan=\"2\" valign=\"top\">Galaxy</th>\n",
       "      <th>blue</th>\n",
       "      <td>24.0</td>\n",
       "      <td>27.0</td>\n",
       "      <td>25.0</td>\n",
       "      <td>134.0</td>\n",
       "      <td>50.0</td>\n",
       "      <td>92.0</td>\n",
       "    </tr>\n",
       "    <tr>\n",
       "      <th>red</th>\n",
       "      <td>23.0</td>\n",
       "      <td>21.0</td>\n",
       "      <td>26.0</td>\n",
       "      <td>155.0</td>\n",
       "      <td>71.0</td>\n",
       "      <td>113.0</td>\n",
       "    </tr>\n",
       "    <tr>\n",
       "      <th rowspan=\"2\" valign=\"top\">Newspoll</th>\n",
       "      <th>blue</th>\n",
       "      <td>28.0</td>\n",
       "      <td>NaN</td>\n",
       "      <td>23.0</td>\n",
       "      <td>218.0</td>\n",
       "      <td>NaN</td>\n",
       "      <td>176.0</td>\n",
       "    </tr>\n",
       "    <tr>\n",
       "      <th>red</th>\n",
       "      <td>25.0</td>\n",
       "      <td>NaN</td>\n",
       "      <td>24.0</td>\n",
       "      <td>239.0</td>\n",
       "      <td>NaN</td>\n",
       "      <td>197.0</td>\n",
       "    </tr>\n",
       "  </tbody>\n",
       "</table>\n",
       "</div>"
      ],
      "text/plain": [
       "                            Est                new             \n",
       "State                       NSW   Qld   Vic    NSW   Qld    Vic\n",
       "Date       Pollster Party                                      \n",
       "13/03/2014 Galaxy   blue   24.0  27.0  25.0  134.0  50.0   92.0\n",
       "                    red    23.0  21.0  26.0  155.0  71.0  113.0\n",
       "           Newspoll blue   28.0   NaN  23.0  218.0   NaN  176.0\n",
       "                    red    25.0   NaN  24.0  239.0   NaN  197.0"
      ]
     },
     "execution_count": 101,
     "metadata": {},
     "output_type": "execute_result"
    }
   ],
   "source": [
    "wide2"
   ]
  },
  {
   "cell_type": "code",
   "execution_count": 102,
   "metadata": {},
   "outputs": [
    {
     "data": {
      "text/html": [
       "<div>\n",
       "<style>\n",
       "    .dataframe thead tr:only-child th {\n",
       "        text-align: right;\n",
       "    }\n",
       "\n",
       "    .dataframe thead th {\n",
       "        text-align: left;\n",
       "    }\n",
       "\n",
       "    .dataframe tbody tr th {\n",
       "        vertical-align: top;\n",
       "    }\n",
       "</style>\n",
       "<table border=\"1\" class=\"dataframe\">\n",
       "  <thead>\n",
       "    <tr>\n",
       "      <th></th>\n",
       "      <th></th>\n",
       "      <th></th>\n",
       "      <th colspan=\"2\" halign=\"left\">Est</th>\n",
       "      <th colspan=\"2\" halign=\"left\">new</th>\n",
       "    </tr>\n",
       "    <tr>\n",
       "      <th></th>\n",
       "      <th></th>\n",
       "      <th>Party</th>\n",
       "      <th>blue</th>\n",
       "      <th>red</th>\n",
       "      <th>blue</th>\n",
       "      <th>red</th>\n",
       "    </tr>\n",
       "    <tr>\n",
       "      <th>Date</th>\n",
       "      <th>Pollster</th>\n",
       "      <th>State</th>\n",
       "      <th></th>\n",
       "      <th></th>\n",
       "      <th></th>\n",
       "      <th></th>\n",
       "    </tr>\n",
       "  </thead>\n",
       "  <tbody>\n",
       "    <tr>\n",
       "      <th rowspan=\"5\" valign=\"top\">13/03/2014</th>\n",
       "      <th rowspan=\"3\" valign=\"top\">Galaxy</th>\n",
       "      <th>NSW</th>\n",
       "      <td>24</td>\n",
       "      <td>23</td>\n",
       "      <td>134</td>\n",
       "      <td>155</td>\n",
       "    </tr>\n",
       "    <tr>\n",
       "      <th>Qld</th>\n",
       "      <td>27</td>\n",
       "      <td>21</td>\n",
       "      <td>50</td>\n",
       "      <td>71</td>\n",
       "    </tr>\n",
       "    <tr>\n",
       "      <th>Vic</th>\n",
       "      <td>25</td>\n",
       "      <td>26</td>\n",
       "      <td>92</td>\n",
       "      <td>113</td>\n",
       "    </tr>\n",
       "    <tr>\n",
       "      <th rowspan=\"2\" valign=\"top\">Newspoll</th>\n",
       "      <th>NSW</th>\n",
       "      <td>28</td>\n",
       "      <td>25</td>\n",
       "      <td>218</td>\n",
       "      <td>239</td>\n",
       "    </tr>\n",
       "    <tr>\n",
       "      <th>Vic</th>\n",
       "      <td>23</td>\n",
       "      <td>24</td>\n",
       "      <td>176</td>\n",
       "      <td>197</td>\n",
       "    </tr>\n",
       "  </tbody>\n",
       "</table>\n",
       "</div>"
      ],
      "text/plain": [
       "                           Est      new     \n",
       "Party                     blue red blue  red\n",
       "Date       Pollster State                   \n",
       "13/03/2014 Galaxy   NSW     24  23  134  155\n",
       "                    Qld     27  21   50   71\n",
       "                    Vic     25  26   92  113\n",
       "           Newspoll NSW     28  25  218  239\n",
       "                    Vic     23  24  176  197"
      ]
     },
     "execution_count": 102,
     "metadata": {},
     "output_type": "execute_result"
    }
   ],
   "source": [
    "wide3"
   ]
  },
  {
   "cell_type": "code",
   "execution_count": 103,
   "metadata": {},
   "outputs": [
    {
     "data": {
      "text/html": [
       "<div>\n",
       "<style>\n",
       "    .dataframe thead tr:only-child th {\n",
       "        text-align: right;\n",
       "    }\n",
       "\n",
       "    .dataframe thead th {\n",
       "        text-align: left;\n",
       "    }\n",
       "\n",
       "    .dataframe tbody tr th {\n",
       "        vertical-align: top;\n",
       "    }\n",
       "</style>\n",
       "<table border=\"1\" class=\"dataframe\">\n",
       "  <thead>\n",
       "    <tr>\n",
       "      <th></th>\n",
       "      <th></th>\n",
       "      <th></th>\n",
       "      <th colspan=\"2\" halign=\"left\">Est</th>\n",
       "      <th colspan=\"2\" halign=\"left\">new</th>\n",
       "    </tr>\n",
       "    <tr>\n",
       "      <th></th>\n",
       "      <th></th>\n",
       "      <th>Party</th>\n",
       "      <th>blue</th>\n",
       "      <th>red</th>\n",
       "      <th>blue</th>\n",
       "      <th>red</th>\n",
       "    </tr>\n",
       "    <tr>\n",
       "      <th>Date</th>\n",
       "      <th>Pollster</th>\n",
       "      <th>State</th>\n",
       "      <th></th>\n",
       "      <th></th>\n",
       "      <th></th>\n",
       "      <th></th>\n",
       "    </tr>\n",
       "  </thead>\n",
       "  <tbody>\n",
       "    <tr>\n",
       "      <th rowspan=\"5\" valign=\"top\">13/03/2014</th>\n",
       "      <th rowspan=\"3\" valign=\"top\">Galaxy</th>\n",
       "      <th>NSW</th>\n",
       "      <td>24</td>\n",
       "      <td>23</td>\n",
       "      <td>134</td>\n",
       "      <td>155</td>\n",
       "    </tr>\n",
       "    <tr>\n",
       "      <th>Qld</th>\n",
       "      <td>27</td>\n",
       "      <td>21</td>\n",
       "      <td>50</td>\n",
       "      <td>71</td>\n",
       "    </tr>\n",
       "    <tr>\n",
       "      <th>Vic</th>\n",
       "      <td>25</td>\n",
       "      <td>26</td>\n",
       "      <td>92</td>\n",
       "      <td>113</td>\n",
       "    </tr>\n",
       "    <tr>\n",
       "      <th rowspan=\"2\" valign=\"top\">Newspoll</th>\n",
       "      <th>NSW</th>\n",
       "      <td>28</td>\n",
       "      <td>25</td>\n",
       "      <td>218</td>\n",
       "      <td>239</td>\n",
       "    </tr>\n",
       "    <tr>\n",
       "      <th>Vic</th>\n",
       "      <td>23</td>\n",
       "      <td>24</td>\n",
       "      <td>176</td>\n",
       "      <td>197</td>\n",
       "    </tr>\n",
       "  </tbody>\n",
       "</table>\n",
       "</div>"
      ],
      "text/plain": [
       "                           Est      new     \n",
       "Party                     blue red blue  red\n",
       "Date       Pollster State                   \n",
       "13/03/2014 Galaxy   NSW     24  23  134  155\n",
       "                    Qld     27  21   50   71\n",
       "                    Vic     25  26   92  113\n",
       "           Newspoll NSW     28  25  218  239\n",
       "                    Vic     23  24  176  197"
      ]
     },
     "execution_count": 103,
     "metadata": {},
     "output_type": "execute_result"
    }
   ],
   "source": [
    "wide1"
   ]
  },
  {
   "cell_type": "code",
   "execution_count": 105,
   "metadata": {},
   "outputs": [
    {
     "data": {
      "text/html": [
       "<div>\n",
       "<style>\n",
       "    .dataframe thead tr:only-child th {\n",
       "        text-align: right;\n",
       "    }\n",
       "\n",
       "    .dataframe thead th {\n",
       "        text-align: left;\n",
       "    }\n",
       "\n",
       "    .dataframe tbody tr th {\n",
       "        vertical-align: top;\n",
       "    }\n",
       "</style>\n",
       "<table border=\"1\" class=\"dataframe\">\n",
       "  <thead>\n",
       "    <tr style=\"text-align: right;\">\n",
       "      <th></th>\n",
       "      <th></th>\n",
       "      <th></th>\n",
       "      <th></th>\n",
       "      <th>Est</th>\n",
       "      <th>new</th>\n",
       "    </tr>\n",
       "    <tr>\n",
       "      <th>Date</th>\n",
       "      <th>Pollster</th>\n",
       "      <th>State</th>\n",
       "      <th>Party</th>\n",
       "      <th></th>\n",
       "      <th></th>\n",
       "    </tr>\n",
       "  </thead>\n",
       "  <tbody>\n",
       "    <tr>\n",
       "      <th rowspan=\"10\" valign=\"top\">13/03/2014</th>\n",
       "      <th rowspan=\"6\" valign=\"top\">Galaxy</th>\n",
       "      <th rowspan=\"2\" valign=\"top\">NSW</th>\n",
       "      <th>blue</th>\n",
       "      <td>24</td>\n",
       "      <td>134</td>\n",
       "    </tr>\n",
       "    <tr>\n",
       "      <th>red</th>\n",
       "      <td>23</td>\n",
       "      <td>155</td>\n",
       "    </tr>\n",
       "    <tr>\n",
       "      <th rowspan=\"2\" valign=\"top\">Qld</th>\n",
       "      <th>blue</th>\n",
       "      <td>27</td>\n",
       "      <td>50</td>\n",
       "    </tr>\n",
       "    <tr>\n",
       "      <th>red</th>\n",
       "      <td>21</td>\n",
       "      <td>71</td>\n",
       "    </tr>\n",
       "    <tr>\n",
       "      <th rowspan=\"2\" valign=\"top\">Vic</th>\n",
       "      <th>blue</th>\n",
       "      <td>25</td>\n",
       "      <td>92</td>\n",
       "    </tr>\n",
       "    <tr>\n",
       "      <th>red</th>\n",
       "      <td>26</td>\n",
       "      <td>113</td>\n",
       "    </tr>\n",
       "    <tr>\n",
       "      <th rowspan=\"4\" valign=\"top\">Newspoll</th>\n",
       "      <th rowspan=\"2\" valign=\"top\">NSW</th>\n",
       "      <th>blue</th>\n",
       "      <td>28</td>\n",
       "      <td>218</td>\n",
       "    </tr>\n",
       "    <tr>\n",
       "      <th>red</th>\n",
       "      <td>25</td>\n",
       "      <td>239</td>\n",
       "    </tr>\n",
       "    <tr>\n",
       "      <th rowspan=\"2\" valign=\"top\">Vic</th>\n",
       "      <th>blue</th>\n",
       "      <td>23</td>\n",
       "      <td>176</td>\n",
       "    </tr>\n",
       "    <tr>\n",
       "      <th>red</th>\n",
       "      <td>24</td>\n",
       "      <td>197</td>\n",
       "    </tr>\n",
       "  </tbody>\n",
       "</table>\n",
       "</div>"
      ],
      "text/plain": [
       "                                 Est  new\n",
       "Date       Pollster State Party          \n",
       "13/03/2014 Galaxy   NSW   blue    24  134\n",
       "                          red     23  155\n",
       "                    Qld   blue    27   50\n",
       "                          red     21   71\n",
       "                    Vic   blue    25   92\n",
       "                          red     26  113\n",
       "           Newspoll NSW   blue    28  218\n",
       "                          red     25  239\n",
       "                    Vic   blue    23  176\n",
       "                          red     24  197"
      ]
     },
     "execution_count": 105,
     "metadata": {},
     "output_type": "execute_result"
    }
   ],
   "source": [
    "# Use stack() to get back to long format\n",
    "long1 = wide1.stack()\n",
    "long1"
   ]
  },
  {
   "cell_type": "code",
   "execution_count": 110,
   "metadata": {},
   "outputs": [
    {
     "data": {
      "text/plain": [
       "<matplotlib.axes._subplots.AxesSubplot at 0x7f00d87f4ba8>"
      ]
     },
     "execution_count": 110,
     "metadata": {},
     "output_type": "execute_result"
    },
    {
     "data": {
      "image/png": "[encoded data removed]",
      "text/plain": [
       "<matplotlib.figure.Figure at 0x7f00d880a3c8>"
      ]
     },
     "metadata": {},
     "output_type": "display_data"
    }
   ],
   "source": [
    "# Then use reset_index() to remove the\n",
    "# MultiIndex.\n",
    "long2 = long1.reset_index()\n",
    "long1.plot()"
   ]
  },
  {
   "cell_type": "code",
   "execution_count": 113,
   "metadata": {},
   "outputs": [
    {
     "data": {
      "text/html": [
       "<div>\n",
       "<style>\n",
       "    .dataframe thead tr:only-child th {\n",
       "        text-align: right;\n",
       "    }\n",
       "\n",
       "    .dataframe thead th {\n",
       "        text-align: left;\n",
       "    }\n",
       "\n",
       "    .dataframe tbody tr th {\n",
       "        vertical-align: top;\n",
       "    }\n",
       "</style>\n",
       "<table border=\"1\" class=\"dataframe\">\n",
       "  <thead>\n",
       "    <tr style=\"text-align: right;\">\n",
       "      <th></th>\n",
       "      <th>Date</th>\n",
       "      <th>Pollster</th>\n",
       "      <th>State</th>\n",
       "      <th>Party</th>\n",
       "      <th>value</th>\n",
       "    </tr>\n",
       "  </thead>\n",
       "  <tbody>\n",
       "    <tr>\n",
       "      <th>0</th>\n",
       "      <td>13/03/2014</td>\n",
       "      <td>Galaxy</td>\n",
       "      <td>NSW</td>\n",
       "      <td>Est_blue</td>\n",
       "      <td>NaN</td>\n",
       "    </tr>\n",
       "    <tr>\n",
       "      <th>1</th>\n",
       "      <td>13/03/2014</td>\n",
       "      <td>Galaxy</td>\n",
       "      <td>Qld</td>\n",
       "      <td>Est_blue</td>\n",
       "      <td>NaN</td>\n",
       "    </tr>\n",
       "    <tr>\n",
       "      <th>2</th>\n",
       "      <td>13/03/2014</td>\n",
       "      <td>Galaxy</td>\n",
       "      <td>Vic</td>\n",
       "      <td>Est_blue</td>\n",
       "      <td>NaN</td>\n",
       "    </tr>\n",
       "    <tr>\n",
       "      <th>3</th>\n",
       "      <td>13/03/2014</td>\n",
       "      <td>Newspoll</td>\n",
       "      <td>NSW</td>\n",
       "      <td>Est_blue</td>\n",
       "      <td>NaN</td>\n",
       "    </tr>\n",
       "    <tr>\n",
       "      <th>4</th>\n",
       "      <td>13/03/2014</td>\n",
       "      <td>Newspoll</td>\n",
       "      <td>Vic</td>\n",
       "      <td>Est_blue</td>\n",
       "      <td>NaN</td>\n",
       "    </tr>\n",
       "    <tr>\n",
       "      <th>5</th>\n",
       "      <td>13/03/2014</td>\n",
       "      <td>Galaxy</td>\n",
       "      <td>NSW</td>\n",
       "      <td>Est_red</td>\n",
       "      <td>NaN</td>\n",
       "    </tr>\n",
       "    <tr>\n",
       "      <th>6</th>\n",
       "      <td>13/03/2014</td>\n",
       "      <td>Galaxy</td>\n",
       "      <td>Qld</td>\n",
       "      <td>Est_red</td>\n",
       "      <td>NaN</td>\n",
       "    </tr>\n",
       "    <tr>\n",
       "      <th>7</th>\n",
       "      <td>13/03/2014</td>\n",
       "      <td>Galaxy</td>\n",
       "      <td>Vic</td>\n",
       "      <td>Est_red</td>\n",
       "      <td>NaN</td>\n",
       "    </tr>\n",
       "    <tr>\n",
       "      <th>8</th>\n",
       "      <td>13/03/2014</td>\n",
       "      <td>Newspoll</td>\n",
       "      <td>NSW</td>\n",
       "      <td>Est_red</td>\n",
       "      <td>NaN</td>\n",
       "    </tr>\n",
       "    <tr>\n",
       "      <th>9</th>\n",
       "      <td>13/03/2014</td>\n",
       "      <td>Newspoll</td>\n",
       "      <td>Vic</td>\n",
       "      <td>Est_red</td>\n",
       "      <td>NaN</td>\n",
       "    </tr>\n",
       "  </tbody>\n",
       "</table>\n",
       "</div>"
      ],
      "text/plain": [
       "         Date  Pollster State     Party  value\n",
       "0  13/03/2014    Galaxy   NSW  Est_blue    NaN\n",
       "1  13/03/2014    Galaxy   Qld  Est_blue    NaN\n",
       "2  13/03/2014    Galaxy   Vic  Est_blue    NaN\n",
       "3  13/03/2014  Newspoll   NSW  Est_blue    NaN\n",
       "4  13/03/2014  Newspoll   Vic  Est_blue    NaN\n",
       "5  13/03/2014    Galaxy   NSW   Est_red    NaN\n",
       "6  13/03/2014    Galaxy   Qld   Est_red    NaN\n",
       "7  13/03/2014    Galaxy   Vic   Est_red    NaN\n",
       "8  13/03/2014  Newspoll   NSW   Est_red    NaN\n",
       "9  13/03/2014  Newspoll   Vic   Est_red    NaN"
      ]
     },
     "execution_count": 113,
     "metadata": {},
     "output_type": "execute_result"
    }
   ],
   "source": [
    "# Or melt() back to long format\n",
    "# 1st: flatten the column index\n",
    "wide1.columns = ['_'.join(col).strip()\n",
    "for col in wide1.columns.values]\n",
    "# 2nd: remove the MultiIndex\n",
    "wdf = wide1.reset_index()\n",
    "# 3rd: melt away\n",
    "long3 = pd.melt(wdf, value_vars=\n",
    "['Est_blue', 'Est_red'],\n",
    "var_name='Party', id_vars=['Date',\n",
    "'Pollster', 'State'])\n",
    "long3"
   ]
  },
  {
   "cell_type": "code",
   "execution_count": 125,
   "metadata": {},
   "outputs": [
    {
     "name": "stdout",
     "output_type": "stream",
     "text": [
      "Bibiloteca\n",
      "ML\n",
      "PrintJobs\n",
      "Python\n",
      "R\n",
      "RDBMS\n",
      "SAS\n",
      "ToolsAndFrameworks\n",
      "triloq\n",
      "UNCLASSIFIED_Q11\n",
      "\n"
     ]
    }
   ],
   "source": [
    "from subprocess import check_output\n",
    "print(check_output([\"ls\", \"../\"]).decode(\"utf8\"))"
   ]
  }
 ],
 "metadata": {
  "kernelspec": {
   "display_name": "Python 3",
   "language": "python",
   "name": "python3"
  },
  "language_info": {
   "codemirror_mode": {
    "name": "ipython",
    "version": 3
   },
   "file_extension": ".py",
   "mimetype": "text/x-python",
   "name": "python",
   "nbconvert_exporter": "python",
   "pygments_lexer": "ipython3",
   "version": "3.6.1"
  }
 },
 "nbformat": 4,
 "nbformat_minor": 2
}
