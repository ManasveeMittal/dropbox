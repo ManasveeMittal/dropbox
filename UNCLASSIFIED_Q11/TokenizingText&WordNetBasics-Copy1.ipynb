{
 "cells": [
  {
   "cell_type": "markdown",
   "metadata": {},
   "source": [
    "# ># Tokenizing Text and WordNet Basics\n"
   ]
  },
  {
   "cell_type": "raw",
   "metadata": {},
   "source": [
    "We will cover the following recipes:\n",
    "\tTokenizing text into sentences\n",
    "\tTokenizing sentences into words\n",
    "\tTokenizing sentences using regular expressions\n",
    "\tTraining a sentence tokenizer\n",
    "\tFiltering stopwords in a tokenized sentence\n",
    "\tLooking up Synsets for a word in WordNet\n",
    "\tLooking up lemmas and synonyms in WordNet\n",
    "\tCalculating WordNet Synset similarity\n",
    "\tDiscovering word collocations"
   ]
  },
  {
   "cell_type": "markdown",
   "metadata": {},
   "source": [
    "Tokenization:\n",
    "method of breaking up a piece of text into many pieces, such as sentences and words"
   ]
  },
  {
   "cell_type": "markdown",
   "metadata": {},
   "source": [
    "WordNet:\n",
    "a dictionary designed for programmatic access by <br> natural language processing systems. <br>\n",
    "Why? <br>\n",
    "&nbsp;&nbsp;&nbsp;&nbsp;&nbsp;Looking up the definition of a word <br>\n",
    "&nbsp;&nbsp;&nbsp;&nbsp;&nbsp;Finding synonyms and antonyms <br>\n",
    "&nbsp;&nbsp;&nbsp;&nbsp;&nbsp;Exploring word relations and similarity <br>\n",
    "&nbsp;&nbsp;&nbsp;&nbsp;&nbsp;Word sense disambiguation for words that have  multiple uses and definitions <br>\n"
   ]
  },
  {
   "cell_type": "code",
   "execution_count": null,
   "metadata": {
    "collapsed": false
   },
   "outputs": [
    {
     "name": "stdout",
     "output_type": "stream",
     "text": [
      "showing info https://raw.githubusercontent.com/nltk/nltk_data/gh-pages/index.xml\n"
     ]
    }
   ],
   "source": [
    "import nltk\n",
    "# nltk.download()"
   ]
  },
  {
   "cell_type": "code",
   "execution_count": null,
   "metadata": {
    "collapsed": true
   },
   "outputs": [],
   "source": [
    "==============================\n",
    "Tokenizing Text into Sentences\n",
    "============================="
   ]
  },
  {
   "cell_type": "code",
   "execution_count": 1,
   "metadata": {
    "collapsed": false
   },
   "outputs": [
    {
     "data": {
      "text/plain": [
       "['Hello World.', \"It's good to see you.\", 'Thanks for buying this book']"
      ]
     },
     "execution_count": 1,
     "metadata": {},
     "output_type": "execute_result"
    }
   ],
   "source": [
    "from nltk.tokenize import sent_tokenize\n",
    "para = \"Hello World. It's good to see you. Thanks for buying this book\"\n",
    "sent_tokenize(para)"
   ]
  },
  {
   "cell_type": "code",
   "execution_count": 2,
   "metadata": {
    "collapsed": false,
    "scrolled": true
   },
   "outputs": [
    {
     "data": {
      "text/plain": [
       "['Hello World.', \"It's good to see you.\", 'Thanks for buying this book']"
      ]
     },
     "execution_count": 2,
     "metadata": {},
     "output_type": "execute_result"
    }
   ],
   "source": [
    "#to be tokenizing a lot of sentences, it's more efficient to load the\n",
    "#PunktSentenceTokenizer class once, and call its tokenize() method instead\n",
    "import nltk.data\n",
    "#english language tokenizer\n",
    "tokenizer = nltk.data.load('tokenizers/punkt/PY3/english.pickle')\n",
    "tokenizer.tokenize(para)\n"
   ]
  },
  {
   "cell_type": "code",
   "execution_count": 10,
   "metadata": {
    "collapsed": false
   },
   "outputs": [
    {
     "data": {
      "text/plain": [
       "['Hello', 'NLTK', '.']"
      ]
     },
     "execution_count": 10,
     "metadata": {},
     "output_type": "execute_result"
    }
   ],
   "source": [
    "# ===============================\n",
    "# Tokenizing Sentences into Words\n",
    "# ===============================\n",
    "from nltk.tokenize import TreebankWordTokenizer\n",
    "# >>> \n",
    "tokenizer = TreebankWordTokenizer()\n",
    "# >>> \n",
    "tokenizer.tokenize('Hello NLTK.')"
   ]
  },
  {
   "cell_type": "markdown",
   "metadata": {
    "collapsed": true
   },
   "source": [
    " <img src='./Pictures/NLP_tokenizers_heirarchy.png' />"
   ]
  },
  {
   "cell_type": "code",
   "execution_count": 11,
   "metadata": {
    "collapsed": false
   },
   "outputs": [
    {
     "data": {
      "text/plain": [
       "['ca', \"n't\"]"
      ]
     },
     "execution_count": 11,
     "metadata": {},
     "output_type": "execute_result"
    }
   ],
   "source": [
    "# Separating contractions\n",
    "word_tokenize(\"can't\")"
   ]
  },
  {
   "cell_type": "code",
   "execution_count": null,
   "metadata": {
    "collapsed": true
   },
   "outputs": [],
   "source": [
    "# Text classification is a way to categorize documents or pieces of text. By examining the\n",
    "# word usage in a piece of text, classifiers can decide what class label to assign to it. A binary\n",
    "# classifier decides between two labels, such as positive or negative. The text can either be one\n",
    "# label or another, but not both, whereas a multi-label classifier can assign one or more labels\n",
    "# to a piece of text"
   ]
  },
  {
   "cell_type": "code",
   "execution_count": null,
   "metadata": {
    "collapsed": true
   },
   "outputs": [],
   "source": [
    "#Classification works by learning from labeled feature sets, or training data, to later classify an\n",
    "#unlabeled feature set"
   ]
  },
  {
   "cell_type": "code",
   "execution_count": 1,
   "metadata": {
    "collapsed": true
   },
   "outputs": [],
   "source": [
    "def bag_of_words(words):\n",
    "    return dict([(word, True) for word in words])"
   ]
  },
  {
   "cell_type": "code",
   "execution_count": 8,
   "metadata": {
    "collapsed": false
   },
   "outputs": [
    {
     "ename": "ModuleNotFoundError",
     "evalue": "No module named 'featx'",
     "output_type": "error",
     "traceback": [
      "\u001b[0;31m--------------------------------------------------------------------------\u001b[0m",
      "\u001b[0;31mModuleNotFoundError\u001b[0m                      Traceback (most recent call last)",
      "\u001b[0;32m<ipython-input-8-b82ee36e28b1>\u001b[0m in \u001b[0;36m<module>\u001b[0;34m()\u001b[0m\n\u001b[1;32m      1\u001b[0m \u001b[0;32mimport\u001b[0m \u001b[0msys\u001b[0m\u001b[0;34m\u001b[0m\u001b[0m\n\u001b[1;32m      2\u001b[0m \u001b[0msys\u001b[0m\u001b[0;34m.\u001b[0m\u001b[0mpath\u001b[0m\u001b[0;34m.\u001b[0m\u001b[0mappend\u001b[0m\u001b[0;34m(\u001b[0m\u001b[0;34m\"/Documents/GitRepos/Python3/NLTK-3-Cookbook/code/Chapter%207/7853OS_07_Codes\"\u001b[0m\u001b[0;34m)\u001b[0m\u001b[0;34m\u001b[0m\u001b[0m\n\u001b[0;32m----> 3\u001b[0;31m \u001b[0;32mfrom\u001b[0m \u001b[0mfeatx\u001b[0m \u001b[0;32mimport\u001b[0m \u001b[0mbag_of_words\u001b[0m\u001b[0;34m\u001b[0m\u001b[0m\n\u001b[0m\u001b[1;32m      4\u001b[0m \u001b[0mbag_of_words\u001b[0m\u001b[0;34m(\u001b[0m\u001b[0;34m[\u001b[0m\u001b[0;34m'the'\u001b[0m\u001b[0;34m,\u001b[0m \u001b[0;34m'quick'\u001b[0m\u001b[0;34m,\u001b[0m \u001b[0;34m'brown'\u001b[0m\u001b[0;34m,\u001b[0m \u001b[0;34m'fox'\u001b[0m\u001b[0;34m]\u001b[0m\u001b[0;34m)\u001b[0m\u001b[0;34m\u001b[0m\u001b[0m\n",
      "\u001b[0;31mModuleNotFoundError\u001b[0m: No module named 'featx'"
     ]
    }
   ],
   "source": [
    "import sys\n",
    "sys.path.append(\"/Documents/GitRepos/Python3/NLTK-3-Cookbook/code/Chapter%207/7853OS_07_Codes\")\n",
    "from featx import bag_of_words\n",
    "bag_of_words(['the', 'quick', 'brown', 'fox'])\n"
   ]
  },
  {
   "cell_type": "code",
   "execution_count": 3,
   "metadata": {
    "collapsed": false
   },
   "outputs": [
    {
     "ename": "NameError",
     "evalue": "name 'path' is not defined",
     "output_type": "error",
     "traceback": [
      "\u001b[0;31m--------------------------------------------------------------------------\u001b[0m",
      "\u001b[0;31mNameError\u001b[0m                                Traceback (most recent call last)",
      "\u001b[0;32m<ipython-input-3-3f9b5e73ec20>\u001b[0m in \u001b[0;36m<module>\u001b[0;34m()\u001b[0m\n\u001b[0;32m----> 1\u001b[0;31m \u001b[0mprint\u001b[0m\u001b[0;34m(\u001b[0m\u001b[0mpath\u001b[0m\u001b[0;34m)\u001b[0m\u001b[0;34m\u001b[0m\u001b[0m\n\u001b[0m",
      "\u001b[0;31mNameError\u001b[0m: name 'path' is not defined"
     ]
    }
   ],
   "source": [
    "print(path)"
   ]
  },
  {
   "cell_type": "code",
   "execution_count": null,
   "metadata": {
    "collapsed": true
   },
   "outputs": [],
   "source": []
  },
  {
   "cell_type": "code",
   "execution_count": null,
   "metadata": {
    "collapsed": true
   },
   "outputs": [],
   "source": []
  },
  {
   "cell_type": "code",
   "execution_count": null,
   "metadata": {
    "collapsed": true
   },
   "outputs": [],
   "source": []
  },
  {
   "cell_type": "code",
   "execution_count": null,
   "metadata": {
    "collapsed": true
   },
   "outputs": [],
   "source": []
  }
 ],
 "metadata": {
  "kernelspec": {
   "display_name": "Python 3",
   "language": "python",
   "name": "python3"
  },
  "language_info": {
   "codemirror_mode": {
    "name": "ipython",
    "version": 3
   },
   "file_extension": ".py",
   "mimetype": "text/x-python",
   "name": "python",
   "nbconvert_exporter": "python",
   "pygments_lexer": "ipython3",
   "version": "3.6.0"
  }
 },
 "nbformat": 4,
 "nbformat_minor": 2
}
