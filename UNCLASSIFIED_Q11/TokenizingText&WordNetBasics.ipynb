{
 "cells": [
  {
   "cell_type": "markdown",
   "metadata": {},
   "source": [
    "# ># Tokenizing Text and WordNet Basics\n"
   ]
  },
  {
   "cell_type": "raw",
   "metadata": {},
   "source": [
    "We will cover the following recipes:\n",
    "\tTokenizing text into sentences\n",
    "\tTokenizing sentences into words\n",
    "\tTokenizing sentences using regular expressions\n",
    "\tTraining a sentence tokenizer\n",
    "\tFiltering stopwords in a tokenized sentence\n",
    "\tLooking up Synsets for a word in WordNet\n",
    "\tLooking up lemmas and synonyms in WordNet\n",
    "\tCalculating WordNet Synset similarity\n",
    "\tDiscovering word collocations"
   ]
  },
  {
   "cell_type": "markdown",
   "metadata": {},
   "source": [
    "Tokenization:\n",
    "method of breaking up a piece of text into many pieces, such as sentences and words"
   ]
  },
  {
   "cell_type": "markdown",
   "metadata": {},
   "source": [
    "WordNet:\n",
    "a dictionary designed for programmatic access by <br> natural language processing systems. <br>\n",
    "Why? <br>\n",
    "&nbsp;&nbsp;&nbsp;&nbsp;&nbsp;Looking up the definition of a word <br>\n",
    "&nbsp;&nbsp;&nbsp;&nbsp;&nbsp;Finding synonyms and antonyms <br>\n",
    "&nbsp;&nbsp;&nbsp;&nbsp;&nbsp;Exploring word relations and similarity <br>\n",
    "&nbsp;&nbsp;&nbsp;&nbsp;&nbsp;Word sense disambiguation for words that have  multiple uses and definitions <br>\n"
   ]
  },
  {
   "cell_type": "code",
   "execution_count": 21,
   "metadata": {
    "collapsed": false
   },
   "outputs": [
    {
     "name": "stdout",
     "output_type": "stream",
     "text": [
      "showing info https://raw.githubusercontent.com/nltk/nltk_data/gh-pages/index.xml\n"
     ]
    },
    {
     "data": {
      "text/plain": [
       "True"
      ]
     },
     "execution_count": 21,
     "metadata": {},
     "output_type": "execute_result"
    }
   ],
   "source": [
    "import nltk\n",
    "nltk.download()"
   ]
  },
  {
   "cell_type": "code",
   "execution_count": 27,
   "metadata": {
    "collapsed": false
   },
   "outputs": [
    {
     "ename": "SyntaxError",
     "evalue": "invalid syntax (<ipython-input-27-8a4c9b4fa466>, line 1)",
     "output_type": "error",
     "traceback": [
      "\u001b[0;36m  File \u001b[0;32m\"<ipython-input-27-8a4c9b4fa466>\"\u001b[0;36m, line \u001b[0;32m1\u001b[0m\n\u001b[0;31m    ==============================\u001b[0m\n\u001b[0m     ^\u001b[0m\n\u001b[0;31mSyntaxError\u001b[0m\u001b[0;31m:\u001b[0m invalid syntax\n"
     ]
    }
   ],
   "source": [
    "==============================\n",
    "Tokenizing Text into Sentences\n",
    "============================="
   ]
  },
  {
   "cell_type": "code",
   "execution_count": 23,
   "metadata": {
    "collapsed": false
   },
   "outputs": [
    {
     "data": {
      "text/plain": [
       "['Hello World.', \"It's good to see you.\", 'Thanks for buying this book']"
      ]
     },
     "execution_count": 23,
     "metadata": {},
     "output_type": "execute_result"
    }
   ],
   "source": [
    "from nltk.tokenize import sent_tokenize\n",
    "para = \"Hello World. It's good to see you. Thanks for buying this book\"\n",
    "sent_tokenize(para)"
   ]
  },
  {
   "cell_type": "code",
   "execution_count": 26,
   "metadata": {
    "collapsed": false
   },
   "outputs": [
    {
     "data": {
      "text/plain": [
       "['Hello World.', \"It's good to see you.\", 'Thanks for buying this book']"
      ]
     },
     "execution_count": 26,
     "metadata": {},
     "output_type": "execute_result"
    }
   ],
   "source": [
    "#to be tokenizing a lot of sentences, it's more efficient to load the\n",
    "#PunktSentenceTokenizer class once, and call its tokenize() method instead\n",
    "import nltk.data\n",
    "#english language tokenizer\n",
    "tokenizer = nltk.data.load('tokenizers/punkt/PY3/english.pickle')\n",
    "tokenizer.tokenize(para)\n"
   ]
  },
  {
   "cell_type": "code",
   "execution_count": null,
   "metadata": {
    "collapsed": true
   },
   "outputs": [],
   "source": [
    "===============================\n",
    "Tokenizing Sentences into Words\n",
    "===============================\n"
   ]
  },
  {
   "cell_type": "code",
   "execution_count": null,
   "metadata": {
    "collapsed": true
   },
   "outputs": [],
   "source": [
    "from nltk.tokenize import word_tokenize\n",
    "# >>> \n",
    "word_tokenize('Hello World.')\n",
    "['Hello', 'World', '.']\n",
    "\n",
    "# >>> \n",
    "from nltk.tokenize import TreebankWordTokenizer\n",
    "# >>> \n",
    "tokenizer = TreebankWordTokenizer()\n",
    "# >>> \n",
    "\"\"\"\n",
    "It works by separating words using spaces and punctuation but does not\n",
    "discard the punctuation, allowing us to decide what to do with it\n",
    "\"\"\""
   ]
  },
  {
   "cell_type": "code",
   "execution_count": null,
   "metadata": {
    "collapsed": true
   },
   "outputs": [],
   "source": []
  },
  {
   "cell_type": "code",
   "execution_count": null,
   "metadata": {
    "collapsed": true
   },
   "outputs": [],
   "source": []
  },
  {
   "cell_type": "code",
   "execution_count": null,
   "metadata": {
    "collapsed": true
   },
   "outputs": [],
   "source": []
  },
  {
   "cell_type": "code",
   "execution_count": null,
   "metadata": {
    "collapsed": true
   },
   "outputs": [],
   "source": []
  },
  {
   "cell_type": "code",
   "execution_count": null,
   "metadata": {
    "collapsed": true
   },
   "outputs": [],
   "source": []
  },
  {
   "cell_type": "code",
   "execution_count": null,
   "metadata": {
    "collapsed": true
   },
   "outputs": [],
   "source": []
  },
  {
   "cell_type": "code",
   "execution_count": null,
   "metadata": {
    "collapsed": true
   },
   "outputs": [],
   "source": []
  },
  {
   "cell_type": "code",
   "execution_count": null,
   "metadata": {
    "collapsed": true
   },
   "outputs": [],
   "source": []
  },
  {
   "cell_type": "code",
   "execution_count": null,
   "metadata": {
    "collapsed": true
   },
   "outputs": [],
   "source": []
  }
 ],
 "metadata": {
  "kernelspec": {
   "display_name": "Python 3",
   "language": "python",
   "name": "python3"
  },
  "language_info": {
   "codemirror_mode": {
    "name": "ipython",
    "version": 3
   },
   "file_extension": ".py",
   "mimetype": "text/x-python",
   "name": "python",
   "nbconvert_exporter": "python",
   "pygments_lexer": "ipython3",
   "version": "3.6.0"
  }
 },
 "nbformat": 4,
 "nbformat_minor": 2
}
