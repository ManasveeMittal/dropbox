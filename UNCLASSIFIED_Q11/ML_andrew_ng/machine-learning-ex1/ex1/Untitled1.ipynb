{
 "cells": [
  {
   "cell_type": "code",
   "execution_count": 53,
   "metadata": {
    "collapsed": true
   },
   "outputs": [],
   "source": [
    "def checkPalindrome(inputString):\n",
    "    x = True\n",
    "    for i in range(len(inputString)//2):\n",
    "#         print(i)\n",
    "        x = (inputString[i] == inputString[-i-1])\n",
    "        print(x)\n",
    "    return 'true' if x==True else 'false'\n"
   ]
  },
  {
   "cell_type": "code",
   "execution_count": 74,
   "metadata": {},
   "outputs": [
    {
     "data": {
      "text/plain": [
       "'true'"
      ]
     },
     "execution_count": 74,
     "metadata": {},
     "output_type": "execute_result"
    }
   ],
   "source": [
    "checkPalindrome('zzzazzazzz')"
   ]
  },
  {
   "cell_type": "code",
   "execution_count": 39,
   "metadata": {},
   "outputs": [
    {
     "data": {
      "text/plain": [
       "False"
      ]
     },
     "execution_count": 39,
     "metadata": {},
     "output_type": "execute_result"
    }
   ],
   "source": [
    "min(True,False,False)"
   ]
  },
  {
   "cell_type": "code",
   "execution_count": 36,
   "metadata": {
    "collapsed": true
   },
   "outputs": [],
   "source": [
    "Whenever i get output as 'false'  both as actual and expected output, it fails to match. However no such problem in case of 'true'\n"
   ]
  },
  {
   "cell_type": "code",
   "execution_count": 76,
   "metadata": {},
   "outputs": [
    {
     "ename": "SyntaxError",
     "evalue": "EOL while scanning string literal (<ipython-input-76-c74d47a24af0>, line 4)",
     "output_type": "error",
     "traceback": [
      "\u001b[0;36m  File \u001b[0;32m\"<ipython-input-76-c74d47a24af0>\"\u001b[0;36m, line \u001b[0;32m4\u001b[0m\n\u001b[0;31m    if min([inputString[i] == inputString[-i-1] for i in range(len(inputString)//2)])==False : return '\\false\"\u001b[0m\n\u001b[0m                                                                                                              ^\u001b[0m\n\u001b[0;31mSyntaxError\u001b[0m\u001b[0;31m:\u001b[0m EOL while scanning string literal\n"
     ]
    }
   ],
   "source": [
    "def checkPalindrome(inputString):\n",
    "#     print(([inputString[i] == inputString[-i-1] for i in range(len(inputString)//2)]))\n",
    "#     if len(inputString)==1: return 'true'\n",
    "    if min([inputString[i] == inputString[-i-1] for i in range(len(inputString)//2)])==False : return '\\false\"\n",
    "    else: return 'true' \n",
    "#     return 'true' if min([inputString[i] == inputString[-i-1] for i in range(len(inputString)//2)])==True else 'false'"
   ]
  },
  {
   "cell_type": "code",
   "execution_count": 110,
   "metadata": {},
   "outputs": [],
   "source": [
    "def almostIncreasingSequence(sequence):\n",
    "    # for i in range(len(sequence)):\n",
    "    a= sequence\n",
    "    i = 0\n",
    "    j = 0\n",
    "    while i < (len(sequence)-1):\n",
    "        if sequence[i]<sequence[i+1]:\n",
    "            print(i,a[i],'      i true')\n",
    "            i+=1\n",
    "        else:\n",
    "            print(i,a[i],'      i false')\n",
    "            sequence.pop(i+1)\n",
    "            print(a,'popped')\n",
    "            j+=1\n",
    "            print(j,a[i],'      j non-consecutive')\n",
    "#             if sequence[i]>=sequence[i+2]:\n",
    "#                 j+=1\n",
    "#                 print(j, 'j consecutive')\n",
    "#             i+=1\n",
    "#             print(i,a[i],'      i consecutive')\n",
    "            # if sequence[i]<sequence[i+1]: check \n",
    "    return j,(j<2)\n"
   ]
  },
  {
   "cell_type": "code",
   "execution_count": 102,
   "metadata": {},
   "outputs": [
    {
     "name": "stdout",
     "output_type": "stream",
     "text": [
      "0 1       i true\n",
      "1 3       i false\n",
      "[1, 3, 1] popped\n",
      "1 3       j non-consecutive\n",
      "1 3       i consecutive\n",
      "1 3       i false\n",
      "[1, 3] popped\n",
      "2 3       j non-consecutive\n",
      "1 3       i consecutive\n"
     ]
    },
    {
     "data": {
      "text/plain": [
       "False"
      ]
     },
     "execution_count": 102,
     "metadata": {},
     "output_type": "execute_result"
    }
   ],
   "source": [
    "almostIncreasingSequence([1, 3, 2, 1])"
   ]
  },
  {
   "cell_type": "code",
   "execution_count": 105,
   "metadata": {},
   "outputs": [
    {
     "name": "stdout",
     "output_type": "stream",
     "text": [
      "0 1       i true\n",
      "1 3       i false\n",
      "[1, 3] popped\n",
      "1 3       j non-consecutive\n",
      "1 3       i consecutive\n"
     ]
    },
    {
     "data": {
      "text/plain": [
       "True"
      ]
     },
     "execution_count": 105,
     "metadata": {},
     "output_type": "execute_result"
    }
   ],
   "source": [
    "almostIncreasingSequence([1, 3, 2])"
   ]
  },
  {
   "cell_type": "code",
   "execution_count": 108,
   "metadata": {},
   "outputs": [
    {
     "name": "stdout",
     "output_type": "stream",
     "text": [
      "0 0       i false\n",
      "[0, 5, 6] popped\n",
      "1 0       j non-consecutive\n",
      "0 0       i consecutive\n",
      "0 0       i true\n",
      "1 5       i true\n"
     ]
    },
    {
     "data": {
      "text/plain": [
       "True"
      ]
     },
     "execution_count": 108,
     "metadata": {},
     "output_type": "execute_result"
    }
   ],
   "source": [
    "almostIncreasingSequence([0, -2, 5, 6])"
   ]
  },
  {
   "cell_type": "code",
   "execution_count": 117,
   "metadata": {},
   "outputs": [
    {
     "name": "stdout",
     "output_type": "stream",
     "text": [
      "2 [1, 5, 3, 5]\n",
      "5 [1, 2, 3, 5]\n"
     ]
    },
    {
     "data": {
      "text/plain": [
       "True"
      ]
     },
     "execution_count": 117,
     "metadata": {},
     "output_type": "execute_result"
    }
   ],
   "source": [
    "almostIncreasingSequence([1, 2, 5, 3, 5])"
   ]
  },
  {
   "cell_type": "code",
   "execution_count": 116,
   "metadata": {},
   "outputs": [],
   "source": [
    "def almostIncreasingSequence(sequence):\n",
    "    for i in sequence:\n",
    "        number = sequence.pop(i)\n",
    "        print (number,sequence)\n",
    "        if sequence == sorted(sequence):\n",
    "            return True\n",
    "            break\n",
    "        elif i == len(sequence):\n",
    "            return False\n",
    "        elif sequence != sorted(sequence):\n",
    "            sequence.insert(i, number)"
   ]
  }
 ],
 "metadata": {
  "kernelspec": {
   "display_name": "Python 3",
   "language": "python",
   "name": "python3"
  },
  "language_info": {
   "codemirror_mode": {
    "name": "ipython",
    "version": 3
   },
   "file_extension": ".py",
   "mimetype": "text/x-python",
   "name": "python",
   "nbconvert_exporter": "python",
   "pygments_lexer": "ipython3",
   "version": "3.6.1"
  }
 },
 "nbformat": 4,
 "nbformat_minor": 2
}
