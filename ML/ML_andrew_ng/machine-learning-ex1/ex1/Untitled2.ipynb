{
 "cells": [
  {
   "cell_type": "code",
   "execution_count": 31,
   "metadata": {},
   "outputs": [],
   "source": [
    "def isDivisibleBy3(inputString):\n",
    "\n",
    "    digitSum = 0\n",
    "    leftBound = ord('0')\n",
    "    rightBound = ord('9')\n",
    "    answer = []\n",
    "    mask = list(inputString)\n",
    "    print(mask)\n",
    "    asteriskPos = -1\n",
    "\n",
    "    for i in range(len(mask)):\n",
    "        if (leftBound <= ord(mask[i]) and\n",
    "          ord(mask[i]) <= rightBound):\n",
    "            digitSum += ord(mask[i]) - leftBound\n",
    "        else:\n",
    "            asteriskPos = i\n",
    "\n",
    "    for i in range(10):\n",
    "        if (digitSum + i) % 3 == 0:\n",
    "            mask[asteriskPos] = chr(leftBound + i)\n",
    "#             print(mask)\n",
    "            answer.append(''.join(mask))\n",
    "\n",
    "    return answer\n"
   ]
  },
  {
   "cell_type": "code",
   "execution_count": 9,
   "metadata": {},
   "outputs": [
    {
     "data": {
      "text/plain": [
       "57"
      ]
     },
     "execution_count": 9,
     "metadata": {},
     "output_type": "execute_result"
    }
   ],
   "source": [
    "leftBound = ord('9')\n",
    "leftBound"
   ]
  },
  {
   "cell_type": "code",
   "execution_count": 32,
   "metadata": {},
   "outputs": [
    {
     "name": "stdout",
     "output_type": "stream",
     "text": [
      "['1', '*', '0']\n"
     ]
    },
    {
     "data": {
      "text/plain": [
       "['120', '150', '180']"
      ]
     },
     "execution_count": 32,
     "metadata": {},
     "output_type": "execute_result"
    }
   ],
   "source": [
    "inputString=\"1*0\"\n",
    "isDivisibleBy3(inputString)"
   ]
  },
  {
   "cell_type": "code",
   "execution_count": 16,
   "metadata": {},
   "outputs": [
    {
     "data": {
      "text/plain": [
       "'1*0'"
      ]
     },
     "execution_count": 16,
     "metadata": {},
     "output_type": "execute_result"
    }
   ],
   "source": [
    "list(inputString)\n",
    "x=''\n",
    "x  = x.join(inputString)\n",
    "x"
   ]
  },
  {
   "cell_type": "code",
   "execution_count": null,
   "metadata": {
    "collapsed": true
   },
   "outputs": [],
   "source": [
    "A masked number is a string that consists of digits and one asterisk (*) that should be replaced by exactly one digit. Given a masked number find all the possible options to replace the asterisk with a digit to produce an integer divisible by 3.\n",
    "\n",
    "Example\n",
    "\n",
    "For inputString = \"1*0\", the output should be\n",
    "isDivisibleBy3(inputString) = [\"120\", \"150\", \"180\"].\n",
    "\n",
    "Input/Output\n",
    "\n",
    "[time limit] 4000ms (py3)\n",
    "[input] string inputString\n",
    "\n",
    "A masked number.\n",
    "\n",
    "Guaranteed constraints:\n",
    "1 ≤ inputString.length ≤ 105.\n",
    "\n",
    "[output] array.string\n",
    "\n",
    "Sorted array of strings representing all non-negative integers that correspond to the given mask and are divisible by 3."
   ]
  }
 ],
 "metadata": {
  "kernelspec": {
   "display_name": "Python 3",
   "language": "python",
   "name": "python3"
  },
  "language_info": {
   "codemirror_mode": {
    "name": "ipython",
    "version": 3
   },
   "file_extension": ".py",
   "mimetype": "text/x-python",
   "name": "python",
   "nbconvert_exporter": "python",
   "pygments_lexer": "ipython3",
   "version": "3.6.1"
  }
 },
 "nbformat": 4,
 "nbformat_minor": 2
}
