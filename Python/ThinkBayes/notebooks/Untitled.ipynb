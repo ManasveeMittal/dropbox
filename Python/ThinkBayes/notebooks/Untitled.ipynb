{
 "cells": [
  {
   "cell_type": "code",
   "execution_count": 2,
   "metadata": {
    "collapsed": true
   },
   "outputs": [],
   "source": [
    "class _DictWrapper(object):\n",
    "    \"\"\"An object that contains a dictionary.\"\"\"\n",
    "\n",
    "    def __init__(self, values=None, name=''):\n",
    "        \"\"\"Initializes the distribution.\n",
    "\n",
    "        hypos: sequence of hypotheses\n",
    "        \"\"\"\n",
    "        self.name = name\n",
    "        self.d = {}\n",
    "\n",
    "        # flag whether the distribution is under a log transform\n",
    "        self.log = False\n",
    "\n",
    "        if values is None:\n",
    "            return\n",
    "\n",
    "        init_methods = [\n",
    "            self.InitPmf,\n",
    "            self.InitMapping,\n",
    "            self.InitSequence,\n",
    "            self.InitFailure,\n",
    "            ]\n",
    "\n",
    "        for method in init_methods:\n",
    "            try:\n",
    "                method(values)\n",
    "                break\n",
    "            except AttributeError:\n",
    "                continue\n",
    "\n",
    "        if len(self) > 0:\n",
    "            self.Normalize()\n"
   ]
  },
  {
   "cell_type": "code",
   "execution_count": null,
   "metadata": {
    "collapsed": true
   },
   "outputs": [],
   "source": []
  }
 ],
 "metadata": {
  "kernelspec": {
   "display_name": "Python 3",
   "language": "python",
   "name": "python3"
  },
  "language_info": {
   "codemirror_mode": {
    "name": "ipython",
    "version": 3
   },
   "file_extension": ".py",
   "mimetype": "text/x-python",
   "name": "python",
   "nbconvert_exporter": "python",
   "pygments_lexer": "ipython3",
   "version": "3.6.0"
  }
 },
 "nbformat": 4,
 "nbformat_minor": 2
}
