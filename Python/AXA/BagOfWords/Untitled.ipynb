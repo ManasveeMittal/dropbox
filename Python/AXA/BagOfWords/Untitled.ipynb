{
 "cells": [
  {
   "cell_type": "code",
   "execution_count": 1,
   "metadata": {
    "collapsed": false
   },
   "outputs": [
    {
     "name": "stdout",
     "output_type": "stream",
     "text": [
      "Hello!\n"
     ]
    }
   ],
   "source": [
    "import pandas as pd\n",
    "from sklearn.metrics.pairwise import cosine_distances\n",
    "from sklearn.cluster import AgglomerativeClustering\n",
    "\n",
    "import matplotlib.pyplot as plt\n",
    "import numpy as np\n",
    "\n",
    "from scipy.cluster.hierarchy import dendrogram, linkage\n",
    "\n",
    "print('Hello!')\n"
   ]
  },
  {
   "cell_type": "code",
   "execution_count": 4,
   "metadata": {
    "collapsed": false
   },
   "outputs": [
    {
     "name": "stdout",
     "output_type": "stream",
     "text": [
      "   docId  wordId  count\n",
      "0      1      61      2\n",
      "1      1      76      1\n",
      "2      1      89      1\n",
      "3      1     211      1\n",
      "4      1     296      1\n",
      "5      1     335      1\n",
      "6      1     404      1\n",
      "353160\n"
     ]
    }
   ],
   "source": [
    "file_path = './docword.kos.txt'\n",
    "col_names = ['docId', 'wordId', 'count']\n",
    "D = pd.read_csv(file_path, skiprows=3, sep = ' ', header=None, names = col_names)#, nrows = 5000)\n",
    "\n",
    "print(D.head(7))\n",
    "print(len(D))"
   ]
  },
  {
   "cell_type": "code",
   "execution_count": 11,
   "metadata": {
    "collapsed": false
   },
   "outputs": [
    {
     "name": "stdout",
     "output_type": "stream",
     "text": [
      "   wordId  freq\n",
      "0       1     3\n",
      "1       2    27\n",
      "2       3    23\n",
      "3       4    17\n",
      "4       5    11\n",
      "5       6    75\n",
      "6       7    17\n",
      "freq\n",
      "1         8\n",
      "2        20\n",
      "3        15\n",
      "4        23\n",
      "5        42\n",
      "6        66\n",
      "7       115\n",
      "8       186\n",
      "9       296\n",
      "10      444\n",
      "11      356\n",
      "12      319\n",
      "13      265\n",
      "14      248\n",
      "15      245\n",
      "16      194\n",
      "17      191\n",
      "18      175\n",
      "19      147\n",
      "20      112\n",
      "21      122\n",
      "22      116\n",
      "23      110\n",
      "24       82\n",
      "25       86\n",
      "26       97\n",
      "27       70\n",
      "28       79\n",
      "29       67\n",
      "30       69\n",
      "       ... \n",
      "749       1\n",
      "754       1\n",
      "768       1\n",
      "782       1\n",
      "783       1\n",
      "784       1\n",
      "794       1\n",
      "800       1\n",
      "806       1\n",
      "818       1\n",
      "855       1\n",
      "875       1\n",
      "879       1\n",
      "960       1\n",
      "974       1\n",
      "984       1\n",
      "989       1\n",
      "994       1\n",
      "1002      1\n",
      "1006      1\n",
      "1054      1\n",
      "1068      1\n",
      "1091      1\n",
      "1215      1\n",
      "1237      1\n",
      "1297      1\n",
      "1468      1\n",
      "1612      1\n",
      "1653      1\n",
      "2123      1\n",
      "dtype: int64\n"
     ]
    }
   ],
   "source": [
    "T = pd.DataFrame(D.groupby(['wordId']).size(), columns = ['freq']).reset_index()\n",
    "print(T.head(7))\n",
    "print(T.groupby(['freq']).size())"
   ]
  },
  {
   "cell_type": "code",
   "execution_count": null,
   "metadata": {
    "collapsed": true
   },
   "outputs": [],
   "source": [
    "tf = 1 + np.log(pd.DataFrame(D.groupby(['wordId'])['count'].agg('sum')))\n",
    "idf = pd.DataFrame(np.['docId'].nunilog(Dque() / (1 + ( D.groupby(['wordId']).count())))).drop('docId', axis = 1)\n"
   ]
  }
 ],
 "metadata": {
  "kernelspec": {
   "display_name": "Python 3",
   "language": "python",
   "name": "python3"
  },
  "language_info": {
   "codemirror_mode": {
    "name": "ipython",
    "version": 3
   },
   "file_extension": ".py",
   "mimetype": "text/x-python",
   "name": "python",
   "nbconvert_exporter": "python",
   "pygments_lexer": "ipython3",
   "version": "3.6.0"
  }
 },
 "nbformat": 4,
 "nbformat_minor": 2
}
