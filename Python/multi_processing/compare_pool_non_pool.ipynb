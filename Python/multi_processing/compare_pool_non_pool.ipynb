{
 "cells": [
  {
   "cell_type": "code",
   "execution_count": 15,
   "metadata": {
    "collapsed": true
   },
   "outputs": [],
   "source": [
    "from multiprocessing import Pool\n",
    "import time"
   ]
  },
  {
   "cell_type": "code",
   "execution_count": 16,
   "metadata": {
    "collapsed": true
   },
   "outputs": [],
   "source": [
    "def f(n):\n",
    "    sumx=0\n",
    "    for x in range(1000):\n",
    "        sumx+=n*n\n",
    "    return sumx"
   ]
  },
  {
   "cell_type": "code",
   "execution_count": 18,
   "metadata": {
    "collapsed": false
   },
   "outputs": [
    {
     "name": "stdout",
     "output_type": "stream",
     "text": [
      "Pool took time 3.03061699867\n",
      "NON Pool took time 5.99609708786\n"
     ]
    }
   ],
   "source": [
    "if __name__ == \"__main__\":\n",
    "    t1=time.time()\n",
    "    p = Pool()\n",
    "    result = p.map(f,range(100000))\n",
    "    p.close()\n",
    "    p.join()\n",
    "    print \"Pool took time \" + str(time.time()-t1)\n",
    "    \n",
    "    t2=time.time()\n",
    "    result=[]\n",
    "    for x in range(100000):\n",
    "        result.append(f(x))\n",
    "    print \"NON Pool took time \" + str(time.time()-t2)"
   ]
  },
  {
   "cell_type": "code",
   "execution_count": null,
   "metadata": {
    "collapsed": true
   },
   "outputs": [],
   "source": []
  }
 ],
 "metadata": {
  "kernelspec": {
   "display_name": "Python 3",
   "language": "python",
   "name": "python3"
  },
  "language_info": {
   "codemirror_mode": {
    "name": "ipython",
    "version": 3
   },
   "file_extension": ".py",
   "mimetype": "text/x-python",
   "name": "python",
   "nbconvert_exporter": "python",
   "pygments_lexer": "ipython3",
   "version": "3.6.0"
  }
 },
 "nbformat": 4,
 "nbformat_minor": 2
}
