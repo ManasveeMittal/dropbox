{
 "cells": [
  {
   "cell_type": "code",
   "execution_count": 9,
   "metadata": {
    "collapsed": true
   },
   "outputs": [],
   "source": [
    "import multiprocessing,ctypes"
   ]
  },
  {
   "cell_type": "code",
   "execution_count": 10,
   "metadata": {
    "collapsed": true
   },
   "outputs": [],
   "source": [
    "def calc_square(numbers, result, v):\n",
    "    v.value = 5.67\n",
    "    for idx, n in enumerate(numbers):\n",
    "        result[idx] = n*n"
   ]
  },
  {
   "cell_type": "code",
   "execution_count": 11,
   "metadata": {
    "collapsed": false
   },
   "outputs": [
    {
     "name": "stdout",
     "output_type": "stream",
     "text": [
      "4\n",
      "9\n",
      "25\n",
      "5.67\n"
     ]
    }
   ],
   "source": [
    "if __name__ == \"__main__\":\n",
    "    numbers = [2,3,5]\n",
    "    result = multiprocessing.Array('i',3)\n",
    "    v = multiprocessing.Value('d', 0.0)\n",
    "    p = multiprocessing.Process(target=calc_square, args=(numbers, result, v))\n",
    "\n",
    "    p.start()\n",
    "    p.join()\n",
    "    for idx,n in enumerate(result):\n",
    "        print (result[idx])\n",
    "    print(v.value)"
   ]
  },
  {
   "cell_type": "code",
   "execution_count": null,
   "metadata": {
    "collapsed": true
   },
   "outputs": [],
   "source": []
  }
 ],
 "metadata": {
  "kernelspec": {
   "display_name": "Python 3",
   "language": "python",
   "name": "python3"
  },
  "language_info": {
   "codemirror_mode": {
    "name": "ipython",
    "version": 3
   },
   "file_extension": ".py",
   "mimetype": "text/x-python",
   "name": "python",
   "nbconvert_exporter": "python",
   "pygments_lexer": "ipython3",
   "version": "3.6.0"
  }
 },
 "nbformat": 4,
 "nbformat_minor": 2
}
